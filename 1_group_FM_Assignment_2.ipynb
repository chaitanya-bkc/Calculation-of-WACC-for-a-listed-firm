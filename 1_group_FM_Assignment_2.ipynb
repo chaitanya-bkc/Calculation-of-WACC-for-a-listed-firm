{
  "cells": [
    {
      "cell_type": "markdown",
      "source": [
        "# **Financial Management ECON/FIN F315 Assignment-2 By Group-1**\n",
        "\n",
        "# Calculation of Weighted Average Cost of Capital(WACC) for a listed firm"
      ],
      "metadata": {
        "id": "dsa534JJ3x3P"
      }
    },
    {
      "cell_type": "markdown",
      "source": [
        "# Industry chosen for Analysis : IT & ITES Industry in India\n",
        "\n",
        "1.   Target Company : Infosys\n",
        "2.   Comparable Companies : Mphasis,TCS and Wipro\n",
        "3.   Market Index : NIFTY 50 index\n",
        "\n",
        "\n",
        "\n",
        "\n",
        "\n",
        "\n",
        "\n"
      ],
      "metadata": {
        "id": "iTHgspma68kM"
      }
    },
    {
      "cell_type": "code",
      "execution_count": null,
      "metadata": {
        "colab": {
          "base_uri": "https://localhost:8080/"
        },
        "id": "TnxZdVvv8ry9",
        "outputId": "3beba6da-9fa7-41e9-d13f-7684747c35b1"
      },
      "outputs": [
        {
          "output_type": "stream",
          "name": "stdout",
          "text": [
            "Requirement already satisfied: yfinance in /usr/local/lib/python3.7/dist-packages (0.1.70)\n",
            "Requirement already satisfied: multitasking>=0.0.7 in /usr/local/lib/python3.7/dist-packages (from yfinance) (0.0.10)\n",
            "Requirement already satisfied: pandas>=0.24.0 in /usr/local/lib/python3.7/dist-packages (from yfinance) (1.3.5)\n",
            "Requirement already satisfied: lxml>=4.5.1 in /usr/local/lib/python3.7/dist-packages (from yfinance) (4.8.0)\n",
            "Requirement already satisfied: numpy>=1.15 in /usr/local/lib/python3.7/dist-packages (from yfinance) (1.21.6)\n",
            "Requirement already satisfied: requests>=2.26 in /usr/local/lib/python3.7/dist-packages (from yfinance) (2.27.1)\n",
            "Requirement already satisfied: python-dateutil>=2.7.3 in /usr/local/lib/python3.7/dist-packages (from pandas>=0.24.0->yfinance) (2.8.2)\n",
            "Requirement already satisfied: pytz>=2017.3 in /usr/local/lib/python3.7/dist-packages (from pandas>=0.24.0->yfinance) (2022.1)\n",
            "Requirement already satisfied: six>=1.5 in /usr/local/lib/python3.7/dist-packages (from python-dateutil>=2.7.3->pandas>=0.24.0->yfinance) (1.15.0)\n",
            "Requirement already satisfied: urllib3<1.27,>=1.21.1 in /usr/local/lib/python3.7/dist-packages (from requests>=2.26->yfinance) (1.24.3)\n",
            "Requirement already satisfied: charset-normalizer~=2.0.0 in /usr/local/lib/python3.7/dist-packages (from requests>=2.26->yfinance) (2.0.12)\n",
            "Requirement already satisfied: certifi>=2017.4.17 in /usr/local/lib/python3.7/dist-packages (from requests>=2.26->yfinance) (2021.10.8)\n",
            "Requirement already satisfied: idna<4,>=2.5 in /usr/local/lib/python3.7/dist-packages (from requests>=2.26->yfinance) (2.10)\n"
          ]
        },
        {
          "output_type": "stream",
          "name": "stderr",
          "text": [
            "/usr/local/lib/python3.7/dist-packages/statsmodels/tools/_testing.py:19: FutureWarning: pandas.util.testing is deprecated. Use the functions in the public API at pandas.testing instead.\n",
            "  import pandas.util.testing as tm\n"
          ]
        }
      ],
      "source": [
        "#Install required libraries\n",
        "!pip install yfinance\n",
        "import matplotlib.pyplot as plt\n",
        "import statsmodels.api as sm\n",
        "import yfinance as yf\n",
        "import pandas as pd\n",
        "import numpy as np\n",
        "import seaborn as sns\n",
        "import scipy.stats as stats\n",
        "import warnings\n",
        "%matplotlib inline\n",
        "warnings.filterwarnings(\"ignore\")"
      ]
    },
    {
      "cell_type": "markdown",
      "source": [
        "# Data Set Preparation\n",
        "\n",
        "For analysis Monthly stock prices from FY 2015 to FY 2019 are considered\n"
      ],
      "metadata": {
        "id": "_Fltgcq37XyF"
      }
    },
    {
      "cell_type": "code",
      "source": [
        "# 1.Download stock prices for the security monthly data last 5 years\n",
        "infy_df = yf.download('INFY.NS', \n",
        "                      start='2015-04-01', \n",
        "                      end='2019-04-01', \n",
        "                      progress=False,interval ='1mo'\n",
        ")\n",
        "infy_df.head() #To preview first 5 rows of the table"
      ],
      "metadata": {
        "colab": {
          "base_uri": "https://localhost:8080/",
          "height": 237
        },
        "id": "108rXfBd3ed_",
        "outputId": "e28f9f52-1b07-4f79-a780-cdd4692e3b3b"
      },
      "execution_count": null,
      "outputs": [
        {
          "output_type": "execute_result",
          "data": {
            "text/plain": [
              "                  Open        High         Low       Close   Adj Close  \\\n",
              "Date                                                                     \n",
              "2015-04-01  549.724976  561.250000  483.075012  485.562500  405.379150   \n",
              "2015-05-01  485.562500  515.474976  477.000000  505.787506  422.264343   \n",
              "2015-06-01  508.200012  516.000000  484.000000  492.174988  410.899689   \n",
              "2015-06-15         NaN         NaN         NaN         NaN         NaN   \n",
              "2015-07-01  494.500000  574.500000  466.325012  538.525024  456.412903   \n",
              "\n",
              "                 Volume  \n",
              "Date                     \n",
              "2015-04-01  218636380.0  \n",
              "2015-05-01  164070368.0  \n",
              "2015-06-01  139774544.0  \n",
              "2015-06-15          NaN  \n",
              "2015-07-01  177091334.0  "
            ],
            "text/html": [
              "\n",
              "  <div id=\"df-4b6193a1-f02f-41c6-a9ad-079f74b8dd5d\">\n",
              "    <div class=\"colab-df-container\">\n",
              "      <div>\n",
              "<style scoped>\n",
              "    .dataframe tbody tr th:only-of-type {\n",
              "        vertical-align: middle;\n",
              "    }\n",
              "\n",
              "    .dataframe tbody tr th {\n",
              "        vertical-align: top;\n",
              "    }\n",
              "\n",
              "    .dataframe thead th {\n",
              "        text-align: right;\n",
              "    }\n",
              "</style>\n",
              "<table border=\"1\" class=\"dataframe\">\n",
              "  <thead>\n",
              "    <tr style=\"text-align: right;\">\n",
              "      <th></th>\n",
              "      <th>Open</th>\n",
              "      <th>High</th>\n",
              "      <th>Low</th>\n",
              "      <th>Close</th>\n",
              "      <th>Adj Close</th>\n",
              "      <th>Volume</th>\n",
              "    </tr>\n",
              "    <tr>\n",
              "      <th>Date</th>\n",
              "      <th></th>\n",
              "      <th></th>\n",
              "      <th></th>\n",
              "      <th></th>\n",
              "      <th></th>\n",
              "      <th></th>\n",
              "    </tr>\n",
              "  </thead>\n",
              "  <tbody>\n",
              "    <tr>\n",
              "      <th>2015-04-01</th>\n",
              "      <td>549.724976</td>\n",
              "      <td>561.250000</td>\n",
              "      <td>483.075012</td>\n",
              "      <td>485.562500</td>\n",
              "      <td>405.379150</td>\n",
              "      <td>218636380.0</td>\n",
              "    </tr>\n",
              "    <tr>\n",
              "      <th>2015-05-01</th>\n",
              "      <td>485.562500</td>\n",
              "      <td>515.474976</td>\n",
              "      <td>477.000000</td>\n",
              "      <td>505.787506</td>\n",
              "      <td>422.264343</td>\n",
              "      <td>164070368.0</td>\n",
              "    </tr>\n",
              "    <tr>\n",
              "      <th>2015-06-01</th>\n",
              "      <td>508.200012</td>\n",
              "      <td>516.000000</td>\n",
              "      <td>484.000000</td>\n",
              "      <td>492.174988</td>\n",
              "      <td>410.899689</td>\n",
              "      <td>139774544.0</td>\n",
              "    </tr>\n",
              "    <tr>\n",
              "      <th>2015-06-15</th>\n",
              "      <td>NaN</td>\n",
              "      <td>NaN</td>\n",
              "      <td>NaN</td>\n",
              "      <td>NaN</td>\n",
              "      <td>NaN</td>\n",
              "      <td>NaN</td>\n",
              "    </tr>\n",
              "    <tr>\n",
              "      <th>2015-07-01</th>\n",
              "      <td>494.500000</td>\n",
              "      <td>574.500000</td>\n",
              "      <td>466.325012</td>\n",
              "      <td>538.525024</td>\n",
              "      <td>456.412903</td>\n",
              "      <td>177091334.0</td>\n",
              "    </tr>\n",
              "  </tbody>\n",
              "</table>\n",
              "</div>\n",
              "      <button class=\"colab-df-convert\" onclick=\"convertToInteractive('df-4b6193a1-f02f-41c6-a9ad-079f74b8dd5d')\"\n",
              "              title=\"Convert this dataframe to an interactive table.\"\n",
              "              style=\"display:none;\">\n",
              "        \n",
              "  <svg xmlns=\"http://www.w3.org/2000/svg\" height=\"24px\"viewBox=\"0 0 24 24\"\n",
              "       width=\"24px\">\n",
              "    <path d=\"M0 0h24v24H0V0z\" fill=\"none\"/>\n",
              "    <path d=\"M18.56 5.44l.94 2.06.94-2.06 2.06-.94-2.06-.94-.94-2.06-.94 2.06-2.06.94zm-11 1L8.5 8.5l.94-2.06 2.06-.94-2.06-.94L8.5 2.5l-.94 2.06-2.06.94zm10 10l.94 2.06.94-2.06 2.06-.94-2.06-.94-.94-2.06-.94 2.06-2.06.94z\"/><path d=\"M17.41 7.96l-1.37-1.37c-.4-.4-.92-.59-1.43-.59-.52 0-1.04.2-1.43.59L10.3 9.45l-7.72 7.72c-.78.78-.78 2.05 0 2.83L4 21.41c.39.39.9.59 1.41.59.51 0 1.02-.2 1.41-.59l7.78-7.78 2.81-2.81c.8-.78.8-2.07 0-2.86zM5.41 20L4 18.59l7.72-7.72 1.47 1.35L5.41 20z\"/>\n",
              "  </svg>\n",
              "      </button>\n",
              "      \n",
              "  <style>\n",
              "    .colab-df-container {\n",
              "      display:flex;\n",
              "      flex-wrap:wrap;\n",
              "      gap: 12px;\n",
              "    }\n",
              "\n",
              "    .colab-df-convert {\n",
              "      background-color: #E8F0FE;\n",
              "      border: none;\n",
              "      border-radius: 50%;\n",
              "      cursor: pointer;\n",
              "      display: none;\n",
              "      fill: #1967D2;\n",
              "      height: 32px;\n",
              "      padding: 0 0 0 0;\n",
              "      width: 32px;\n",
              "    }\n",
              "\n",
              "    .colab-df-convert:hover {\n",
              "      background-color: #E2EBFA;\n",
              "      box-shadow: 0px 1px 2px rgba(60, 64, 67, 0.3), 0px 1px 3px 1px rgba(60, 64, 67, 0.15);\n",
              "      fill: #174EA6;\n",
              "    }\n",
              "\n",
              "    [theme=dark] .colab-df-convert {\n",
              "      background-color: #3B4455;\n",
              "      fill: #D2E3FC;\n",
              "    }\n",
              "\n",
              "    [theme=dark] .colab-df-convert:hover {\n",
              "      background-color: #434B5C;\n",
              "      box-shadow: 0px 1px 3px 1px rgba(0, 0, 0, 0.15);\n",
              "      filter: drop-shadow(0px 1px 2px rgba(0, 0, 0, 0.3));\n",
              "      fill: #FFFFFF;\n",
              "    }\n",
              "  </style>\n",
              "\n",
              "      <script>\n",
              "        const buttonEl =\n",
              "          document.querySelector('#df-4b6193a1-f02f-41c6-a9ad-079f74b8dd5d button.colab-df-convert');\n",
              "        buttonEl.style.display =\n",
              "          google.colab.kernel.accessAllowed ? 'block' : 'none';\n",
              "\n",
              "        async function convertToInteractive(key) {\n",
              "          const element = document.querySelector('#df-4b6193a1-f02f-41c6-a9ad-079f74b8dd5d');\n",
              "          const dataTable =\n",
              "            await google.colab.kernel.invokeFunction('convertToInteractive',\n",
              "                                                     [key], {});\n",
              "          if (!dataTable) return;\n",
              "\n",
              "          const docLinkHtml = 'Like what you see? Visit the ' +\n",
              "            '<a target=\"_blank\" href=https://colab.research.google.com/notebooks/data_table.ipynb>data table notebook</a>'\n",
              "            + ' to learn more about interactive tables.';\n",
              "          element.innerHTML = '';\n",
              "          dataTable['output_type'] = 'display_data';\n",
              "          await google.colab.output.renderOutput(dataTable, element);\n",
              "          const docLink = document.createElement('div');\n",
              "          docLink.innerHTML = docLinkHtml;\n",
              "          element.appendChild(docLink);\n",
              "        }\n",
              "      </script>\n",
              "    </div>\n",
              "  </div>\n",
              "  "
            ]
          },
          "metadata": {},
          "execution_count": 2
        }
      ]
    },
    {
      "cell_type": "code",
      "source": [
        "#2.Download Market index closing prices\n",
        "nifty_df = yf.download('^NSEI',start='2015-04-01', \n",
        "                      end='2019-04-01', \n",
        "                      progress=False,interval ='1mo',\n",
        ")\n",
        "nifty_df.head()\n"
      ],
      "metadata": {
        "colab": {
          "base_uri": "https://localhost:8080/",
          "height": 237
        },
        "id": "XCOtaHXx470i",
        "outputId": "eb423b15-2cbd-4721-9a57-7f1725703fe6"
      },
      "execution_count": null,
      "outputs": [
        {
          "output_type": "execute_result",
          "data": {
            "text/plain": [
              "                   Open         High          Low        Close    Adj Close  \\\n",
              "Date                                                                          \n",
              "2015-04-01  8483.700195  8841.650391  8144.750000  8181.500000  8181.500000   \n",
              "2015-05-01  8230.049805  8489.549805  7997.149902  8433.650391  8433.650391   \n",
              "2015-06-01  8417.250000  8467.150391  7940.299805  8368.500000  8368.500000   \n",
              "2015-07-01  8376.250000  8654.750000  8315.400391  8532.849609  8532.849609   \n",
              "2015-08-01  8510.650391  8621.549805  7667.250000  7971.299805  7971.299805   \n",
              "\n",
              "             Volume  \n",
              "Date                 \n",
              "2015-04-01  3108200  \n",
              "2015-05-01  3384800  \n",
              "2015-06-01  3156900  \n",
              "2015-07-01  3097900  \n",
              "2015-08-01  3939200  "
            ],
            "text/html": [
              "\n",
              "  <div id=\"df-fae85815-5c8a-4a6e-a29f-25070cff16a1\">\n",
              "    <div class=\"colab-df-container\">\n",
              "      <div>\n",
              "<style scoped>\n",
              "    .dataframe tbody tr th:only-of-type {\n",
              "        vertical-align: middle;\n",
              "    }\n",
              "\n",
              "    .dataframe tbody tr th {\n",
              "        vertical-align: top;\n",
              "    }\n",
              "\n",
              "    .dataframe thead th {\n",
              "        text-align: right;\n",
              "    }\n",
              "</style>\n",
              "<table border=\"1\" class=\"dataframe\">\n",
              "  <thead>\n",
              "    <tr style=\"text-align: right;\">\n",
              "      <th></th>\n",
              "      <th>Open</th>\n",
              "      <th>High</th>\n",
              "      <th>Low</th>\n",
              "      <th>Close</th>\n",
              "      <th>Adj Close</th>\n",
              "      <th>Volume</th>\n",
              "    </tr>\n",
              "    <tr>\n",
              "      <th>Date</th>\n",
              "      <th></th>\n",
              "      <th></th>\n",
              "      <th></th>\n",
              "      <th></th>\n",
              "      <th></th>\n",
              "      <th></th>\n",
              "    </tr>\n",
              "  </thead>\n",
              "  <tbody>\n",
              "    <tr>\n",
              "      <th>2015-04-01</th>\n",
              "      <td>8483.700195</td>\n",
              "      <td>8841.650391</td>\n",
              "      <td>8144.750000</td>\n",
              "      <td>8181.500000</td>\n",
              "      <td>8181.500000</td>\n",
              "      <td>3108200</td>\n",
              "    </tr>\n",
              "    <tr>\n",
              "      <th>2015-05-01</th>\n",
              "      <td>8230.049805</td>\n",
              "      <td>8489.549805</td>\n",
              "      <td>7997.149902</td>\n",
              "      <td>8433.650391</td>\n",
              "      <td>8433.650391</td>\n",
              "      <td>3384800</td>\n",
              "    </tr>\n",
              "    <tr>\n",
              "      <th>2015-06-01</th>\n",
              "      <td>8417.250000</td>\n",
              "      <td>8467.150391</td>\n",
              "      <td>7940.299805</td>\n",
              "      <td>8368.500000</td>\n",
              "      <td>8368.500000</td>\n",
              "      <td>3156900</td>\n",
              "    </tr>\n",
              "    <tr>\n",
              "      <th>2015-07-01</th>\n",
              "      <td>8376.250000</td>\n",
              "      <td>8654.750000</td>\n",
              "      <td>8315.400391</td>\n",
              "      <td>8532.849609</td>\n",
              "      <td>8532.849609</td>\n",
              "      <td>3097900</td>\n",
              "    </tr>\n",
              "    <tr>\n",
              "      <th>2015-08-01</th>\n",
              "      <td>8510.650391</td>\n",
              "      <td>8621.549805</td>\n",
              "      <td>7667.250000</td>\n",
              "      <td>7971.299805</td>\n",
              "      <td>7971.299805</td>\n",
              "      <td>3939200</td>\n",
              "    </tr>\n",
              "  </tbody>\n",
              "</table>\n",
              "</div>\n",
              "      <button class=\"colab-df-convert\" onclick=\"convertToInteractive('df-fae85815-5c8a-4a6e-a29f-25070cff16a1')\"\n",
              "              title=\"Convert this dataframe to an interactive table.\"\n",
              "              style=\"display:none;\">\n",
              "        \n",
              "  <svg xmlns=\"http://www.w3.org/2000/svg\" height=\"24px\"viewBox=\"0 0 24 24\"\n",
              "       width=\"24px\">\n",
              "    <path d=\"M0 0h24v24H0V0z\" fill=\"none\"/>\n",
              "    <path d=\"M18.56 5.44l.94 2.06.94-2.06 2.06-.94-2.06-.94-.94-2.06-.94 2.06-2.06.94zm-11 1L8.5 8.5l.94-2.06 2.06-.94-2.06-.94L8.5 2.5l-.94 2.06-2.06.94zm10 10l.94 2.06.94-2.06 2.06-.94-2.06-.94-.94-2.06-.94 2.06-2.06.94z\"/><path d=\"M17.41 7.96l-1.37-1.37c-.4-.4-.92-.59-1.43-.59-.52 0-1.04.2-1.43.59L10.3 9.45l-7.72 7.72c-.78.78-.78 2.05 0 2.83L4 21.41c.39.39.9.59 1.41.59.51 0 1.02-.2 1.41-.59l7.78-7.78 2.81-2.81c.8-.78.8-2.07 0-2.86zM5.41 20L4 18.59l7.72-7.72 1.47 1.35L5.41 20z\"/>\n",
              "  </svg>\n",
              "      </button>\n",
              "      \n",
              "  <style>\n",
              "    .colab-df-container {\n",
              "      display:flex;\n",
              "      flex-wrap:wrap;\n",
              "      gap: 12px;\n",
              "    }\n",
              "\n",
              "    .colab-df-convert {\n",
              "      background-color: #E8F0FE;\n",
              "      border: none;\n",
              "      border-radius: 50%;\n",
              "      cursor: pointer;\n",
              "      display: none;\n",
              "      fill: #1967D2;\n",
              "      height: 32px;\n",
              "      padding: 0 0 0 0;\n",
              "      width: 32px;\n",
              "    }\n",
              "\n",
              "    .colab-df-convert:hover {\n",
              "      background-color: #E2EBFA;\n",
              "      box-shadow: 0px 1px 2px rgba(60, 64, 67, 0.3), 0px 1px 3px 1px rgba(60, 64, 67, 0.15);\n",
              "      fill: #174EA6;\n",
              "    }\n",
              "\n",
              "    [theme=dark] .colab-df-convert {\n",
              "      background-color: #3B4455;\n",
              "      fill: #D2E3FC;\n",
              "    }\n",
              "\n",
              "    [theme=dark] .colab-df-convert:hover {\n",
              "      background-color: #434B5C;\n",
              "      box-shadow: 0px 1px 3px 1px rgba(0, 0, 0, 0.15);\n",
              "      filter: drop-shadow(0px 1px 2px rgba(0, 0, 0, 0.3));\n",
              "      fill: #FFFFFF;\n",
              "    }\n",
              "  </style>\n",
              "\n",
              "      <script>\n",
              "        const buttonEl =\n",
              "          document.querySelector('#df-fae85815-5c8a-4a6e-a29f-25070cff16a1 button.colab-df-convert');\n",
              "        buttonEl.style.display =\n",
              "          google.colab.kernel.accessAllowed ? 'block' : 'none';\n",
              "\n",
              "        async function convertToInteractive(key) {\n",
              "          const element = document.querySelector('#df-fae85815-5c8a-4a6e-a29f-25070cff16a1');\n",
              "          const dataTable =\n",
              "            await google.colab.kernel.invokeFunction('convertToInteractive',\n",
              "                                                     [key], {});\n",
              "          if (!dataTable) return;\n",
              "\n",
              "          const docLinkHtml = 'Like what you see? Visit the ' +\n",
              "            '<a target=\"_blank\" href=https://colab.research.google.com/notebooks/data_table.ipynb>data table notebook</a>'\n",
              "            + ' to learn more about interactive tables.';\n",
              "          element.innerHTML = '';\n",
              "          dataTable['output_type'] = 'display_data';\n",
              "          await google.colab.output.renderOutput(dataTable, element);\n",
              "          const docLink = document.createElement('div');\n",
              "          docLink.innerHTML = docLinkHtml;\n",
              "          element.appendChild(docLink);\n",
              "        }\n",
              "      </script>\n",
              "    </div>\n",
              "  </div>\n",
              "  "
            ]
          },
          "metadata": {},
          "execution_count": 3
        }
      ]
    },
    {
      "cell_type": "code",
      "source": [
        "#3.Calculate Log returns\n",
        "nifty_df['Return_NIFTY'] = np.log(nifty_df['Adj Close']/nifty_df['Adj Close'].shift(1))\n",
        "print(nifty_df['Return_NIFTY']) "
      ],
      "metadata": {
        "colab": {
          "base_uri": "https://localhost:8080/"
        },
        "id": "ba8tiJVEkLCx",
        "outputId": "d2bad4be-84d1-4500-fd79-302c0a3790f2"
      },
      "execution_count": null,
      "outputs": [
        {
          "output_type": "stream",
          "name": "stdout",
          "text": [
            "Date\n",
            "2015-04-01         NaN\n",
            "2015-05-01    0.030354\n",
            "2015-06-01   -0.007755\n",
            "2015-07-01    0.019449\n",
            "2015-08-01   -0.068076\n",
            "2015-09-01   -0.002814\n",
            "2015-10-01    0.014599\n",
            "2015-11-01   -0.016318\n",
            "2015-12-01    0.001398\n",
            "2016-01-01   -0.049372\n",
            "2016-02-01   -0.079282\n",
            "2016-03-01    0.102137\n",
            "2016-04-01    0.014293\n",
            "2016-05-01    0.038768\n",
            "2016-06-01    0.015522\n",
            "2016-07-01    0.041450\n",
            "2016-08-01    0.016953\n",
            "2016-09-01   -0.020124\n",
            "2016-10-01    0.003113\n",
            "2016-11-01   -0.049054\n",
            "2016-12-01   -0.004717\n",
            "2017-01-01    0.044851\n",
            "2017-02-01    0.036504\n",
            "2017-03-01    0.032590\n",
            "2017-04-01    0.014104\n",
            "2017-05-01    0.033524\n",
            "2017-06-01   -0.010485\n",
            "2017-07-01    0.056776\n",
            "2017-08-01   -0.015924\n",
            "2017-09-01   -0.013123\n",
            "2017-10-01    0.054347\n",
            "2017-11-01   -0.010578\n",
            "2017-12-01    0.029308\n",
            "2018-01-01    0.046115\n",
            "2018-02-01   -0.049716\n",
            "2018-03-01   -0.036803\n",
            "2018-04-01    0.060024\n",
            "2018-05-01   -0.000298\n",
            "2018-06-01   -0.002037\n",
            "2018-07-01    0.058211\n",
            "2018-08-01    0.028131\n",
            "2018-09-01   -0.066368\n",
            "2018-10-01   -0.051036\n",
            "2018-11-01    0.046111\n",
            "2018-12-01   -0.001306\n",
            "2019-01-01   -0.002913\n",
            "2019-02-01   -0.003556\n",
            "2019-03-01    0.074212\n",
            "2019-04-01    0.010632\n",
            "Name: Return_NIFTY, dtype: float64\n"
          ]
        }
      ]
    },
    {
      "cell_type": "markdown",
      "source": [
        "**Data Visualisation**"
      ],
      "metadata": {
        "id": "Yy7FaZqp9ybK"
      }
    },
    {
      "cell_type": "code",
      "source": [
        "nifty_df['Return_NIFTY'].plot(figsize=(8,5)) #Plot log returns of NIFTY Index Vs Year\n",
        "plt.xlabel('Year') \n",
        "plt.ylabel('Log Returns')\n",
        "plt.title(\"NIFTY Returns\")\n",
        "plt.show()"
      ],
      "metadata": {
        "colab": {
          "base_uri": "https://localhost:8080/",
          "height": 350
        },
        "id": "aIn40D24lSOq",
        "outputId": "5dbed3f0-d1c8-48f7-8d8b-091aa72f062b"
      },
      "execution_count": null,
      "outputs": [
        {
          "output_type": "display_data",
          "data": {
            "text/plain": [
              "<Figure size 576x360 with 1 Axes>"
            ],
            "image/png": "[encoded data removed]"
          },
          "metadata": {
            "needs_background": "light"
          }
        }
      ]
    },
    {
      "cell_type": "code",
      "source": [
        "nifty_df['Adj Close'].plot(figsize=(8,5)) #Plot Adjusted Close of NIFTY Index Vs Year\n",
        "plt.xlabel('Year') \n",
        "plt.ylabel('NIFTY Adjusted Closing Price')\n",
        "plt.title(\"NIFTY Adjusted Closing Price\")\n",
        "plt.show()"
      ],
      "metadata": {
        "colab": {
          "base_uri": "https://localhost:8080/",
          "height": 350
        },
        "id": "2fcMItn3lZs6",
        "outputId": "4cc40e79-1bab-4fa1-8669-3de59127d811"
      },
      "execution_count": null,
      "outputs": [
        {
          "output_type": "display_data",
          "data": {
            "text/plain": [
              "<Figure size 576x360 with 1 Axes>"
            ],
            "image/png": "[encoded data removed]"
          },
          "metadata": {
            "needs_background": "light"
          }
        }
      ]
    },
    {
      "cell_type": "markdown",
      "source": [
        "**Data Cleaning**"
      ],
      "metadata": {
        "id": "MRnM_5uK99T5"
      }
    },
    {
      "cell_type": "code",
      "source": [
        "nifty_df1 = nifty_df.dropna(axis=0) # Remove rows with Null Values\n",
        "nifty_df1.head()"
      ],
      "metadata": {
        "colab": {
          "base_uri": "https://localhost:8080/",
          "height": 237
        },
        "id": "3EnS0ryFl-Qc",
        "outputId": "d35e7737-2fea-4cf4-b8a0-35b98d51f8f9"
      },
      "execution_count": null,
      "outputs": [
        {
          "output_type": "execute_result",
          "data": {
            "text/plain": [
              "                   Open         High          Low        Close    Adj Close  \\\n",
              "Date                                                                          \n",
              "2015-05-01  8230.049805  8489.549805  7997.149902  8433.650391  8433.650391   \n",
              "2015-06-01  8417.250000  8467.150391  7940.299805  8368.500000  8368.500000   \n",
              "2015-07-01  8376.250000  8654.750000  8315.400391  8532.849609  8532.849609   \n",
              "2015-08-01  8510.650391  8621.549805  7667.250000  7971.299805  7971.299805   \n",
              "2015-09-01  7907.950195  8055.000000  7539.500000  7948.899902  7948.899902   \n",
              "\n",
              "             Volume  Return_NIFTY  \n",
              "Date                               \n",
              "2015-05-01  3384800      0.030354  \n",
              "2015-06-01  3156900     -0.007755  \n",
              "2015-07-01  3097900      0.019449  \n",
              "2015-08-01  3939200     -0.068076  \n",
              "2015-09-01  3436500     -0.002814  "
            ],
            "text/html": [
              "\n",
              "  <div id=\"df-19fcb690-7b89-4b81-b3d0-00ac5d63a16b\">\n",
              "    <div class=\"colab-df-container\">\n",
              "      <div>\n",
              "<style scoped>\n",
              "    .dataframe tbody tr th:only-of-type {\n",
              "        vertical-align: middle;\n",
              "    }\n",
              "\n",
              "    .dataframe tbody tr th {\n",
              "        vertical-align: top;\n",
              "    }\n",
              "\n",
              "    .dataframe thead th {\n",
              "        text-align: right;\n",
              "    }\n",
              "</style>\n",
              "<table border=\"1\" class=\"dataframe\">\n",
              "  <thead>\n",
              "    <tr style=\"text-align: right;\">\n",
              "      <th></th>\n",
              "      <th>Open</th>\n",
              "      <th>High</th>\n",
              "      <th>Low</th>\n",
              "      <th>Close</th>\n",
              "      <th>Adj Close</th>\n",
              "      <th>Volume</th>\n",
              "      <th>Return_NIFTY</th>\n",
              "    </tr>\n",
              "    <tr>\n",
              "      <th>Date</th>\n",
              "      <th></th>\n",
              "      <th></th>\n",
              "      <th></th>\n",
              "      <th></th>\n",
              "      <th></th>\n",
              "      <th></th>\n",
              "      <th></th>\n",
              "    </tr>\n",
              "  </thead>\n",
              "  <tbody>\n",
              "    <tr>\n",
              "      <th>2015-05-01</th>\n",
              "      <td>8230.049805</td>\n",
              "      <td>8489.549805</td>\n",
              "      <td>7997.149902</td>\n",
              "      <td>8433.650391</td>\n",
              "      <td>8433.650391</td>\n",
              "      <td>3384800</td>\n",
              "      <td>0.030354</td>\n",
              "    </tr>\n",
              "    <tr>\n",
              "      <th>2015-06-01</th>\n",
              "      <td>8417.250000</td>\n",
              "      <td>8467.150391</td>\n",
              "      <td>7940.299805</td>\n",
              "      <td>8368.500000</td>\n",
              "      <td>8368.500000</td>\n",
              "      <td>3156900</td>\n",
              "      <td>-0.007755</td>\n",
              "    </tr>\n",
              "    <tr>\n",
              "      <th>2015-07-01</th>\n",
              "      <td>8376.250000</td>\n",
              "      <td>8654.750000</td>\n",
              "      <td>8315.400391</td>\n",
              "      <td>8532.849609</td>\n",
              "      <td>8532.849609</td>\n",
              "      <td>3097900</td>\n",
              "      <td>0.019449</td>\n",
              "    </tr>\n",
              "    <tr>\n",
              "      <th>2015-08-01</th>\n",
              "      <td>8510.650391</td>\n",
              "      <td>8621.549805</td>\n",
              "      <td>7667.250000</td>\n",
              "      <td>7971.299805</td>\n",
              "      <td>7971.299805</td>\n",
              "      <td>3939200</td>\n",
              "      <td>-0.068076</td>\n",
              "    </tr>\n",
              "    <tr>\n",
              "      <th>2015-09-01</th>\n",
              "      <td>7907.950195</td>\n",
              "      <td>8055.000000</td>\n",
              "      <td>7539.500000</td>\n",
              "      <td>7948.899902</td>\n",
              "      <td>7948.899902</td>\n",
              "      <td>3436500</td>\n",
              "      <td>-0.002814</td>\n",
              "    </tr>\n",
              "  </tbody>\n",
              "</table>\n",
              "</div>\n",
              "      <button class=\"colab-df-convert\" onclick=\"convertToInteractive('df-19fcb690-7b89-4b81-b3d0-00ac5d63a16b')\"\n",
              "              title=\"Convert this dataframe to an interactive table.\"\n",
              "              style=\"display:none;\">\n",
              "        \n",
              "  <svg xmlns=\"http://www.w3.org/2000/svg\" height=\"24px\"viewBox=\"0 0 24 24\"\n",
              "       width=\"24px\">\n",
              "    <path d=\"M0 0h24v24H0V0z\" fill=\"none\"/>\n",
              "    <path d=\"M18.56 5.44l.94 2.06.94-2.06 2.06-.94-2.06-.94-.94-2.06-.94 2.06-2.06.94zm-11 1L8.5 8.5l.94-2.06 2.06-.94-2.06-.94L8.5 2.5l-.94 2.06-2.06.94zm10 10l.94 2.06.94-2.06 2.06-.94-2.06-.94-.94-2.06-.94 2.06-2.06.94z\"/><path d=\"M17.41 7.96l-1.37-1.37c-.4-.4-.92-.59-1.43-.59-.52 0-1.04.2-1.43.59L10.3 9.45l-7.72 7.72c-.78.78-.78 2.05 0 2.83L4 21.41c.39.39.9.59 1.41.59.51 0 1.02-.2 1.41-.59l7.78-7.78 2.81-2.81c.8-.78.8-2.07 0-2.86zM5.41 20L4 18.59l7.72-7.72 1.47 1.35L5.41 20z\"/>\n",
              "  </svg>\n",
              "      </button>\n",
              "      \n",
              "  <style>\n",
              "    .colab-df-container {\n",
              "      display:flex;\n",
              "      flex-wrap:wrap;\n",
              "      gap: 12px;\n",
              "    }\n",
              "\n",
              "    .colab-df-convert {\n",
              "      background-color: #E8F0FE;\n",
              "      border: none;\n",
              "      border-radius: 50%;\n",
              "      cursor: pointer;\n",
              "      display: none;\n",
              "      fill: #1967D2;\n",
              "      height: 32px;\n",
              "      padding: 0 0 0 0;\n",
              "      width: 32px;\n",
              "    }\n",
              "\n",
              "    .colab-df-convert:hover {\n",
              "      background-color: #E2EBFA;\n",
              "      box-shadow: 0px 1px 2px rgba(60, 64, 67, 0.3), 0px 1px 3px 1px rgba(60, 64, 67, 0.15);\n",
              "      fill: #174EA6;\n",
              "    }\n",
              "\n",
              "    [theme=dark] .colab-df-convert {\n",
              "      background-color: #3B4455;\n",
              "      fill: #D2E3FC;\n",
              "    }\n",
              "\n",
              "    [theme=dark] .colab-df-convert:hover {\n",
              "      background-color: #434B5C;\n",
              "      box-shadow: 0px 1px 3px 1px rgba(0, 0, 0, 0.15);\n",
              "      filter: drop-shadow(0px 1px 2px rgba(0, 0, 0, 0.3));\n",
              "      fill: #FFFFFF;\n",
              "    }\n",
              "  </style>\n",
              "\n",
              "      <script>\n",
              "        const buttonEl =\n",
              "          document.querySelector('#df-19fcb690-7b89-4b81-b3d0-00ac5d63a16b button.colab-df-convert');\n",
              "        buttonEl.style.display =\n",
              "          google.colab.kernel.accessAllowed ? 'block' : 'none';\n",
              "\n",
              "        async function convertToInteractive(key) {\n",
              "          const element = document.querySelector('#df-19fcb690-7b89-4b81-b3d0-00ac5d63a16b');\n",
              "          const dataTable =\n",
              "            await google.colab.kernel.invokeFunction('convertToInteractive',\n",
              "                                                     [key], {});\n",
              "          if (!dataTable) return;\n",
              "\n",
              "          const docLinkHtml = 'Like what you see? Visit the ' +\n",
              "            '<a target=\"_blank\" href=https://colab.research.google.com/notebooks/data_table.ipynb>data table notebook</a>'\n",
              "            + ' to learn more about interactive tables.';\n",
              "          element.innerHTML = '';\n",
              "          dataTable['output_type'] = 'display_data';\n",
              "          await google.colab.output.renderOutput(dataTable, element);\n",
              "          const docLink = document.createElement('div');\n",
              "          docLink.innerHTML = docLinkHtml;\n",
              "          element.appendChild(docLink);\n",
              "        }\n",
              "      </script>\n",
              "    </div>\n",
              "  </div>\n",
              "  "
            ]
          },
          "metadata": {},
          "execution_count": 7
        }
      ]
    },
    {
      "cell_type": "code",
      "source": [
        "#Caclulate log returns\n",
        "infy_df['Return_INFY'] = np.log(infy_df['Adj Close']/infy_df['Adj Close'].shift(1)) \n",
        "print(infy_df['Return_INFY']) "
      ],
      "metadata": {
        "colab": {
          "base_uri": "https://localhost:8080/"
        },
        "id": "W-pgVjTam0jL",
        "outputId": "0b281fa2-3c53-4333-b070-2d4dade05ea7"
      },
      "execution_count": null,
      "outputs": [
        {
          "output_type": "stream",
          "name": "stdout",
          "text": [
            "Date\n",
            "2015-04-01         NaN\n",
            "2015-05-01    0.040809\n",
            "2015-06-01   -0.027282\n",
            "2015-06-15         NaN\n",
            "2015-07-01         NaN\n",
            "2015-08-01    0.015981\n",
            "2015-09-01    0.059893\n",
            "2015-10-01   -0.023071\n",
            "2015-10-16         NaN\n",
            "2015-11-01         NaN\n",
            "2015-12-01    0.015958\n",
            "2016-01-01    0.052428\n",
            "2016-02-01   -0.071931\n",
            "2016-03-01    0.116752\n",
            "2016-04-01   -0.008408\n",
            "2016-05-01    0.033014\n",
            "2016-06-01   -0.064376\n",
            "2016-06-09         NaN\n",
            "2016-07-01         NaN\n",
            "2016-08-01   -0.036028\n",
            "2016-09-01    0.000193\n",
            "2016-10-01   -0.037919\n",
            "2016-10-21         NaN\n",
            "2016-11-01         NaN\n",
            "2016-12-01    0.035298\n",
            "2017-01-01   -0.084621\n",
            "2017-02-01    0.086401\n",
            "2017-03-01    0.009682\n",
            "2017-04-01   -0.106530\n",
            "2017-05-01    0.061306\n",
            "2017-06-01   -0.043403\n",
            "2017-07-01    0.092970\n",
            "2017-08-01   -0.100024\n",
            "2017-09-01   -0.016586\n",
            "2017-10-01    0.024099\n",
            "2017-10-31         NaN\n",
            "2017-11-01         NaN\n",
            "2017-12-01    0.065380\n",
            "2018-01-01    0.098790\n",
            "2018-02-01    0.019244\n",
            "2018-03-01   -0.035414\n",
            "2018-04-01    0.058096\n",
            "2018-05-01    0.026572\n",
            "2018-06-01    0.059411\n",
            "2018-06-14         NaN\n",
            "2018-07-01         NaN\n",
            "2018-08-01    0.054179\n",
            "2018-09-01    0.013098\n",
            "2018-09-04         NaN\n",
            "2018-10-01         NaN\n",
            "2018-10-25         NaN\n",
            "2018-11-01         NaN\n",
            "2018-12-01   -0.012817\n",
            "2019-01-01    0.128825\n",
            "2019-01-24         NaN\n",
            "2019-02-01         NaN\n",
            "2019-03-01    0.012922\n",
            "2019-04-01    0.010032\n",
            "Name: Return_INFY, dtype: float64\n"
          ]
        }
      ]
    },
    {
      "cell_type": "code",
      "source": [
        "infy_df1 = infy_df.dropna(axis=0) # Remove rows with Null Values\n",
        "infy_df1.head()"
      ],
      "metadata": {
        "colab": {
          "base_uri": "https://localhost:8080/",
          "height": 237
        },
        "id": "Z3xXQiNmm__a",
        "outputId": "e3f4d844-02db-4938-ff6b-2206605fab7d"
      },
      "execution_count": null,
      "outputs": [
        {
          "output_type": "execute_result",
          "data": {
            "text/plain": [
              "                  Open        High         Low       Close   Adj Close  \\\n",
              "Date                                                                     \n",
              "2015-05-01  485.562500  515.474976  477.000000  505.787506  422.264343   \n",
              "2015-06-01  508.200012  516.000000  484.000000  492.174988  410.899689   \n",
              "2015-08-01  539.000000  593.099976  522.250000  547.200012  463.765228   \n",
              "2015-09-01  545.000000  584.474976  526.150024  580.974976  492.390289   \n",
              "2015-10-01  584.950012  609.900024  542.599976  567.724976  481.160461   \n",
              "\n",
              "                 Volume  Return_INFY  \n",
              "Date                                  \n",
              "2015-05-01  164070368.0     0.040809  \n",
              "2015-06-01  139774544.0    -0.027282  \n",
              "2015-08-01  175816384.0     0.015981  \n",
              "2015-09-01  165212106.0     0.059893  \n",
              "2015-10-01  178869960.0    -0.023071  "
            ],
            "text/html": [
              "\n",
              "  <div id=\"df-a0aeccf1-dd2b-47e5-8555-87ab53e7502c\">\n",
              "    <div class=\"colab-df-container\">\n",
              "      <div>\n",
              "<style scoped>\n",
              "    .dataframe tbody tr th:only-of-type {\n",
              "        vertical-align: middle;\n",
              "    }\n",
              "\n",
              "    .dataframe tbody tr th {\n",
              "        vertical-align: top;\n",
              "    }\n",
              "\n",
              "    .dataframe thead th {\n",
              "        text-align: right;\n",
              "    }\n",
              "</style>\n",
              "<table border=\"1\" class=\"dataframe\">\n",
              "  <thead>\n",
              "    <tr style=\"text-align: right;\">\n",
              "      <th></th>\n",
              "      <th>Open</th>\n",
              "      <th>High</th>\n",
              "      <th>Low</th>\n",
              "      <th>Close</th>\n",
              "      <th>Adj Close</th>\n",
              "      <th>Volume</th>\n",
              "      <th>Return_INFY</th>\n",
              "    </tr>\n",
              "    <tr>\n",
              "      <th>Date</th>\n",
              "      <th></th>\n",
              "      <th></th>\n",
              "      <th></th>\n",
              "      <th></th>\n",
              "      <th></th>\n",
              "      <th></th>\n",
              "      <th></th>\n",
              "    </tr>\n",
              "  </thead>\n",
              "  <tbody>\n",
              "    <tr>\n",
              "      <th>2015-05-01</th>\n",
              "      <td>485.562500</td>\n",
              "      <td>515.474976</td>\n",
              "      <td>477.000000</td>\n",
              "      <td>505.787506</td>\n",
              "      <td>422.264343</td>\n",
              "      <td>164070368.0</td>\n",
              "      <td>0.040809</td>\n",
              "    </tr>\n",
              "    <tr>\n",
              "      <th>2015-06-01</th>\n",
              "      <td>508.200012</td>\n",
              "      <td>516.000000</td>\n",
              "      <td>484.000000</td>\n",
              "      <td>492.174988</td>\n",
              "      <td>410.899689</td>\n",
              "      <td>139774544.0</td>\n",
              "      <td>-0.027282</td>\n",
              "    </tr>\n",
              "    <tr>\n",
              "      <th>2015-08-01</th>\n",
              "      <td>539.000000</td>\n",
              "      <td>593.099976</td>\n",
              "      <td>522.250000</td>\n",
              "      <td>547.200012</td>\n",
              "      <td>463.765228</td>\n",
              "      <td>175816384.0</td>\n",
              "      <td>0.015981</td>\n",
              "    </tr>\n",
              "    <tr>\n",
              "      <th>2015-09-01</th>\n",
              "      <td>545.000000</td>\n",
              "      <td>584.474976</td>\n",
              "      <td>526.150024</td>\n",
              "      <td>580.974976</td>\n",
              "      <td>492.390289</td>\n",
              "      <td>165212106.0</td>\n",
              "      <td>0.059893</td>\n",
              "    </tr>\n",
              "    <tr>\n",
              "      <th>2015-10-01</th>\n",
              "      <td>584.950012</td>\n",
              "      <td>609.900024</td>\n",
              "      <td>542.599976</td>\n",
              "      <td>567.724976</td>\n",
              "      <td>481.160461</td>\n",
              "      <td>178869960.0</td>\n",
              "      <td>-0.023071</td>\n",
              "    </tr>\n",
              "  </tbody>\n",
              "</table>\n",
              "</div>\n",
              "      <button class=\"colab-df-convert\" onclick=\"convertToInteractive('df-a0aeccf1-dd2b-47e5-8555-87ab53e7502c')\"\n",
              "              title=\"Convert this dataframe to an interactive table.\"\n",
              "              style=\"display:none;\">\n",
              "        \n",
              "  <svg xmlns=\"http://www.w3.org/2000/svg\" height=\"24px\"viewBox=\"0 0 24 24\"\n",
              "       width=\"24px\">\n",
              "    <path d=\"M0 0h24v24H0V0z\" fill=\"none\"/>\n",
              "    <path d=\"M18.56 5.44l.94 2.06.94-2.06 2.06-.94-2.06-.94-.94-2.06-.94 2.06-2.06.94zm-11 1L8.5 8.5l.94-2.06 2.06-.94-2.06-.94L8.5 2.5l-.94 2.06-2.06.94zm10 10l.94 2.06.94-2.06 2.06-.94-2.06-.94-.94-2.06-.94 2.06-2.06.94z\"/><path d=\"M17.41 7.96l-1.37-1.37c-.4-.4-.92-.59-1.43-.59-.52 0-1.04.2-1.43.59L10.3 9.45l-7.72 7.72c-.78.78-.78 2.05 0 2.83L4 21.41c.39.39.9.59 1.41.59.51 0 1.02-.2 1.41-.59l7.78-7.78 2.81-2.81c.8-.78.8-2.07 0-2.86zM5.41 20L4 18.59l7.72-7.72 1.47 1.35L5.41 20z\"/>\n",
              "  </svg>\n",
              "      </button>\n",
              "      \n",
              "  <style>\n",
              "    .colab-df-container {\n",
              "      display:flex;\n",
              "      flex-wrap:wrap;\n",
              "      gap: 12px;\n",
              "    }\n",
              "\n",
              "    .colab-df-convert {\n",
              "      background-color: #E8F0FE;\n",
              "      border: none;\n",
              "      border-radius: 50%;\n",
              "      cursor: pointer;\n",
              "      display: none;\n",
              "      fill: #1967D2;\n",
              "      height: 32px;\n",
              "      padding: 0 0 0 0;\n",
              "      width: 32px;\n",
              "    }\n",
              "\n",
              "    .colab-df-convert:hover {\n",
              "      background-color: #E2EBFA;\n",
              "      box-shadow: 0px 1px 2px rgba(60, 64, 67, 0.3), 0px 1px 3px 1px rgba(60, 64, 67, 0.15);\n",
              "      fill: #174EA6;\n",
              "    }\n",
              "\n",
              "    [theme=dark] .colab-df-convert {\n",
              "      background-color: #3B4455;\n",
              "      fill: #D2E3FC;\n",
              "    }\n",
              "\n",
              "    [theme=dark] .colab-df-convert:hover {\n",
              "      background-color: #434B5C;\n",
              "      box-shadow: 0px 1px 3px 1px rgba(0, 0, 0, 0.15);\n",
              "      filter: drop-shadow(0px 1px 2px rgba(0, 0, 0, 0.3));\n",
              "      fill: #FFFFFF;\n",
              "    }\n",
              "  </style>\n",
              "\n",
              "      <script>\n",
              "        const buttonEl =\n",
              "          document.querySelector('#df-a0aeccf1-dd2b-47e5-8555-87ab53e7502c button.colab-df-convert');\n",
              "        buttonEl.style.display =\n",
              "          google.colab.kernel.accessAllowed ? 'block' : 'none';\n",
              "\n",
              "        async function convertToInteractive(key) {\n",
              "          const element = document.querySelector('#df-a0aeccf1-dd2b-47e5-8555-87ab53e7502c');\n",
              "          const dataTable =\n",
              "            await google.colab.kernel.invokeFunction('convertToInteractive',\n",
              "                                                     [key], {});\n",
              "          if (!dataTable) return;\n",
              "\n",
              "          const docLinkHtml = 'Like what you see? Visit the ' +\n",
              "            '<a target=\"_blank\" href=https://colab.research.google.com/notebooks/data_table.ipynb>data table notebook</a>'\n",
              "            + ' to learn more about interactive tables.';\n",
              "          element.innerHTML = '';\n",
              "          dataTable['output_type'] = 'display_data';\n",
              "          await google.colab.output.renderOutput(dataTable, element);\n",
              "          const docLink = document.createElement('div');\n",
              "          docLink.innerHTML = docLinkHtml;\n",
              "          element.appendChild(docLink);\n",
              "        }\n",
              "      </script>\n",
              "    </div>\n",
              "  </div>\n",
              "  "
            ]
          },
          "metadata": {},
          "execution_count": 9
        }
      ]
    },
    {
      "cell_type": "code",
      "source": [
        "infy_df['Return_INFY'].plot(figsize=(8,5)) # Plot Infosys Returns Vs Year\n",
        "plt.xlabel('Year') \n",
        "plt.ylabel('Log Returns')\n",
        "plt.title(\"Infosys Returns\")\n",
        "plt.show()\n",
        "plt.show()"
      ],
      "metadata": {
        "colab": {
          "base_uri": "https://localhost:8080/",
          "height": 342
        },
        "id": "kJXPYZFdf74F",
        "outputId": "6a49ef9d-9e95-44d5-9ec5-c042ed0173e6"
      },
      "execution_count": null,
      "outputs": [
        {
          "output_type": "display_data",
          "data": {
            "text/plain": [
              "<Figure size 576x360 with 1 Axes>"
            ],
            "image/png": "[encoded data removed]"
          },
          "metadata": {
            "needs_background": "light"
          }
        }
      ]
    },
    {
      "cell_type": "code",
      "source": [
        "infy_df['Adj Close'].plot(figsize=(8,5)) #Plot Adjusted Close price of Infosys Vs Year\n",
        "plt.xlabel('Year') \n",
        "plt.ylabel('Infosys Adjusted Closing Price')\n",
        "plt.title(\"Infosys Adjusted Closing Price\")\n",
        "plt.show()"
      ],
      "metadata": {
        "colab": {
          "base_uri": "https://localhost:8080/",
          "height": 342
        },
        "id": "Xq9n9CuHgFp9",
        "outputId": "04fd7143-aeab-4275-da58-673fefb42d5f"
      },
      "execution_count": null,
      "outputs": [
        {
          "output_type": "display_data",
          "data": {
            "text/plain": [
              "<Figure size 576x360 with 1 Axes>"
            ],
            "image/png": "[encoded data removed]"
          },
          "metadata": {
            "needs_background": "light"
          }
        }
      ]
    },
    {
      "cell_type": "code",
      "source": [
        "infy_df1_returns = infy_df1['Return_INFY']\n",
        "infy_df1_returns.head()\n"
      ],
      "metadata": {
        "colab": {
          "base_uri": "https://localhost:8080/"
        },
        "id": "T0h1-cQjnPTj",
        "outputId": "15169e91-e184-44e6-eaf6-a02180905e0a"
      },
      "execution_count": null,
      "outputs": [
        {
          "output_type": "execute_result",
          "data": {
            "text/plain": [
              "Date\n",
              "2015-05-01    0.040809\n",
              "2015-06-01   -0.027282\n",
              "2015-08-01    0.015981\n",
              "2015-09-01    0.059893\n",
              "2015-10-01   -0.023071\n",
              "Name: Return_INFY, dtype: float64"
            ]
          },
          "metadata": {},
          "execution_count": 12
        }
      ]
    },
    {
      "cell_type": "code",
      "source": [
        "nifty_df1_returns = nifty_df1['Return_NIFTY']\n",
        "nifty_df1_returns.head()"
      ],
      "metadata": {
        "colab": {
          "base_uri": "https://localhost:8080/"
        },
        "id": "iFG2S2lHryb1",
        "outputId": "5d16f736-f219-4512-8f60-41b47e38bca2"
      },
      "execution_count": null,
      "outputs": [
        {
          "output_type": "execute_result",
          "data": {
            "text/plain": [
              "Date\n",
              "2015-05-01    0.030354\n",
              "2015-06-01   -0.007755\n",
              "2015-07-01    0.019449\n",
              "2015-08-01   -0.068076\n",
              "2015-09-01   -0.002814\n",
              "Name: Return_NIFTY, dtype: float64"
            ]
          },
          "metadata": {},
          "execution_count": 13
        }
      ]
    },
    {
      "cell_type": "code",
      "source": [
        "returns = pd.merge(nifty_df1_returns,infy_df1_returns,how='inner',on='Date') # Inner Join infosys returns(infy_df1_returns) and NIFTY returns(nifty_df1_returns)\n",
        "print(returns.head())\n",
        "print(returns.describe())"
      ],
      "metadata": {
        "colab": {
          "base_uri": "https://localhost:8080/"
        },
        "id": "_kIUjtUer5zC",
        "outputId": "db49abd7-a2c1-42e6-84af-357f194245a6"
      },
      "execution_count": null,
      "outputs": [
        {
          "output_type": "stream",
          "name": "stdout",
          "text": [
            "            Return_NIFTY  Return_INFY\n",
            "Date                                 \n",
            "2015-05-01      0.030354     0.040809\n",
            "2015-06-01     -0.007755    -0.027282\n",
            "2015-08-01     -0.068076     0.015981\n",
            "2015-09-01     -0.002814     0.059893\n",
            "2015-10-01      0.014599    -0.023071\n",
            "       Return_NIFTY  Return_INFY\n",
            "count     39.000000    39.000000\n",
            "mean       0.008388     0.013408\n",
            "std        0.039273     0.057465\n",
            "min       -0.079282    -0.106530\n",
            "25%       -0.009120    -0.025177\n",
            "50%        0.010632     0.015958\n",
            "75%        0.033057     0.056137\n",
            "max        0.102137     0.128825\n"
          ]
        }
      ]
    },
    {
      "cell_type": "code",
      "source": [
        "sns.pairplot(returns) #To plot multiple pairwise bivariate distributions in a dataset\n",
        "plt.show()"
      ],
      "metadata": {
        "colab": {
          "base_uri": "https://localhost:8080/",
          "height": 374
        },
        "id": "JxUfVxi0woaw",
        "outputId": "7c56a077-1c6e-40f6-f44a-b893d0c0bc51"
      },
      "execution_count": null,
      "outputs": [
        {
          "output_type": "display_data",
          "data": {
            "text/plain": [
              "<Figure size 360x360 with 6 Axes>"
            ],
            "image/png": "[encoded data removed]"
          },
          "metadata": {
            "needs_background": "light"
          }
        }
      ]
    },
    {
      "cell_type": "code",
      "source": [
        "sns.heatmap(returns.corr(), annot = True, cmap=\"PiYG\") # To show relationships between NIFTY and Infosys returns,\n",
        "plt.show()"
      ],
      "metadata": {
        "colab": {
          "base_uri": "https://localhost:8080/",
          "height": 270
        },
        "id": "A7fUSbQJxAog",
        "outputId": "eddb46b1-f1aa-4559-99da-c2c7ae6e07a8"
      },
      "execution_count": null,
      "outputs": [
        {
          "output_type": "display_data",
          "data": {
            "text/plain": [
              "<Figure size 432x288 with 2 Axes>"
            ],
            "image/png": "[encoded data removed]"
          },
          "metadata": {
            "needs_background": "light"
          }
        }
      ]
    },
    {
      "cell_type": "markdown",
      "source": [
        "## Calculation of  cost of equity capital Using Top-Down Approach\n",
        "\n",
        "\n",
        "> To find unlevered Beta of the stock by running a regression with dependent  variable as target company monthly returns and\n",
        "independent variable as market returns\n",
        "\n"
      ],
      "metadata": {
        "id": "IJqVfn2YAew9"
      }
    },
    {
      "cell_type": "code",
      "source": [
        "x = returns['Return_NIFTY']\n",
        "y = returns['Return_INFY']\n",
        "x_sm = sm.add_constant(x)"
      ],
      "metadata": {
        "id": "aTgTI10c2ME2"
      },
      "execution_count": null,
      "outputs": []
    },
    {
      "cell_type": "markdown",
      "source": [
        "**Assumptions of OLS regression**\n",
        "\n",
        "1.   A linear relationship between the dependent and independent variables i.e.The linear regression model is linear in parameters\n",
        "2.   The independent variables are not highly correlated with each other i.e.no multicollinearity\n",
        "3. The variance of the residuals is constant i.e. no heteroskedasticity\n",
        "4. Random sampling of observation and no autocorrelation\n",
        "5. Normality of Errors\n",
        "\n"
      ],
      "metadata": {
        "id": "tSLS_KvjdiB6"
      }
    },
    {
      "cell_type": "markdown",
      "source": [
        "#Ri = αi + βi(RM) + εi.........Market model\n",
        "\n",
        "• Ri = Return of security i\n",
        "\n",
        "• αi = The return from the asset that is not related to the market’s return. This is “alpha” return from the security\n",
        "\n",
        "• βi = Beta or the return from the security explained by the market index’s return\n",
        "\n",
        "• RM = The market index’s return\n",
        "\n",
        "• εi = Error term for past returns not explained by the regression equation"
      ],
      "metadata": {
        "id": "sRaNzBQYfoQ5"
      }
    },
    {
      "cell_type": "code",
      "source": [
        "#4.Regression - Market model from statsmodels.api library\n",
        "model = sm.OLS(y,x_sm)"
      ],
      "metadata": {
        "id": "mgX96tpfHFs0"
      },
      "execution_count": null,
      "outputs": []
    },
    {
      "cell_type": "markdown",
      "source": [
        "#OLS estimation or Ordinary Least square \n",
        "Works on the principle of Minimizing the sum of squared errors"
      ],
      "metadata": {
        "id": "eGU15HAMeQS5"
      }
    },
    {
      "cell_type": "code",
      "source": [
        "results = model.fit()"
      ],
      "metadata": {
        "id": "_qH4t2OlxfZz"
      },
      "execution_count": null,
      "outputs": []
    },
    {
      "cell_type": "code",
      "source": [
        "#5.Calculation of beta levered for the firm\n",
        "#6.check for statistical significance of beta\n",
        "p_val = results.pvalues[1]\n",
        "if p_val < 0.05:\n",
        "  print(\"Beta Significant\")\n",
        "  coeff = results.params\n",
        "  beta = coeff[1]\n",
        "else:\n",
        "  print(\"Beta Insignificant\")\n",
        "  beta = 0\n",
        "print(\"Beta_levered_infy =\",beta)\n",
        "\n"
      ],
      "metadata": {
        "colab": {
          "base_uri": "https://localhost:8080/"
        },
        "id": "coUzJZ6bIINn",
        "outputId": "85b14ba7-bae7-4b72-8d86-9a3cbf91df91"
      },
      "execution_count": null,
      "outputs": [
        {
          "output_type": "stream",
          "name": "stdout",
          "text": [
            "Beta Significant\n",
            "Beta_levered_infy = 0.5188961650305294\n"
          ]
        }
      ]
    },
    {
      "cell_type": "markdown",
      "source": [
        "#Beta Levered  for Infosys stock = 0.5189 at a significance level of  5%\n"
      ],
      "metadata": {
        "id": "CTtGHFf8HaE7"
      }
    },
    {
      "cell_type": "code",
      "source": [
        "#Regression - Security Characteristic line\n",
        "returns.info()\n",
        "sns.regplot(x = 'Return_NIFTY', y = 'Return_INFY', data = returns)"
      ],
      "metadata": {
        "colab": {
          "base_uri": "https://localhost:8080/",
          "height": 462
        },
        "id": "Tyt-SwX8IrXw",
        "outputId": "6b068ef1-d8b5-4e4a-af8a-ef447ae36e32"
      },
      "execution_count": null,
      "outputs": [
        {
          "output_type": "stream",
          "name": "stdout",
          "text": [
            "<class 'pandas.core.frame.DataFrame'>\n",
            "DatetimeIndex: 39 entries, 2015-05-01 to 2019-04-01\n",
            "Data columns (total 2 columns):\n",
            " #   Column        Non-Null Count  Dtype  \n",
            "---  ------        --------------  -----  \n",
            " 0   Return_NIFTY  39 non-null     float64\n",
            " 1   Return_INFY   39 non-null     float64\n",
            "dtypes: float64(2)\n",
            "memory usage: 936.0 bytes\n"
          ]
        },
        {
          "output_type": "execute_result",
          "data": {
            "text/plain": [
              "<matplotlib.axes._subplots.AxesSubplot at 0x7fc32dfb6710>"
            ]
          },
          "metadata": {},
          "execution_count": 21
        },
        {
          "output_type": "display_data",
          "data": {
            "text/plain": [
              "<Figure size 432x288 with 1 Axes>"
            ],
            "image/png": "[encoded data removed]"
          },
          "metadata": {
            "needs_background": "light"
          }
        }
      ]
    },
    {
      "cell_type": "markdown",
      "source": [
        " **8. Risk Free Rate**"
      ],
      "metadata": {
        "id": "eDeLwrBrPeUq"
      }
    },
    {
      "cell_type": "code",
      "source": [
        "Rf=0.0648     #To find Average of Monthly risk-free rate for the period from http://www.epwrfits.in/TreeViewSecurity.aspx\n",
        "\n",
        "Rm = nifty_df1['Return_NIFTY'].mean() #Average Market returns\n",
        "Rm = pow((1+Rm),12)-1 #Annualizing the Market returns\n",
        "print(\"Risk free rate in %:\",Rf*100)\n",
        "print(\"Market Returns in %:\",Rm*100)"
      ],
      "metadata": {
        "id": "AGdbXRvTS6Qb",
        "colab": {
          "base_uri": "https://localhost:8080/"
        },
        "outputId": "7f38293f-35f9-4443-ed07-96242cc17b91"
      },
      "execution_count": null,
      "outputs": [
        {
          "output_type": "stream",
          "name": "stdout",
          "text": [
            "Risk free rate in %: 6.4799999999999995\n",
            "Market Returns in %: 9.430106053144272\n"
          ]
        }
      ]
    },
    {
      "cell_type": "markdown",
      "source": [
        "**Cost of Equity Capital for Infosys Using Top Down-approach**"
      ],
      "metadata": {
        "id": "8WdWACjuF1G_"
      }
    },
    {
      "cell_type": "code",
      "source": [
        "Ke = Rf + beta*(Rm - Rf) # CAPM Model\n",
        "print(\"Cost of Equity Capital for Infosys Using Top Down-approach in %:\",Ke*100)"
      ],
      "metadata": {
        "id": "jtNM2i4HTpLD",
        "colab": {
          "base_uri": "https://localhost:8080/"
        },
        "outputId": "3397256f-e27b-402f-8e6f-e187559254b0"
      },
      "execution_count": null,
      "outputs": [
        {
          "output_type": "stream",
          "name": "stdout",
          "text": [
            "Cost of Equity Capital for Infosys Using Top Down-approach in %: 8.010798717409912\n"
          ]
        }
      ]
    },
    {
      "cell_type": "markdown",
      "source": [
        "**Cost of Equity Capital for Infosys Using Top Down-approach: 8.0108%**\n"
      ],
      "metadata": {
        "id": "5poKIBj1GimW"
      }
    },
    {
      "cell_type": "markdown",
      "source": [
        "##Bottom Up Approach \n",
        "By Unlevering and Relevering of betas to find cost of equity capital"
      ],
      "metadata": {
        "id": "o4ua_mhlGqV5"
      }
    },
    {
      "cell_type": "markdown",
      "source": [
        "\n",
        "\n",
        "> Employing Similar kind of analysis(OLS) to find the Beta levered for comparable companies i.e. Mphasis,TCS and Tech Mahindra \n",
        "\n",
        "\n",
        "\n"
      ],
      "metadata": {
        "id": "_tIoIfyXIXBG"
      }
    },
    {
      "cell_type": "code",
      "source": [
        "#Download stock prices for the security monthly data last 5 years\n",
        "mphasis_df = yf.download('MPHASIS.NS', \n",
        "                      start='2015-04-01', \n",
        "                      end='2019-04-01', \n",
        "                      progress=False,interval ='1mo'\n",
        ")\n",
        "infy_df.head()\n",
        "\n",
        "#Caclulate log returns\n",
        "mphasis_df['Return_MPHASIS'] = np.log(mphasis_df['Adj Close']/mphasis_df['Adj Close'].shift(1))\n",
        "\n",
        "\n",
        "mphasis_df1 = mphasis_df.dropna(axis=0)\n",
        "mphasis_df1.head()\n",
        "\n",
        "mphasis_df1_returns = mphasis_df1['Return_MPHASIS']\n",
        "mphasis_df1_returns.head()\n",
        "\n",
        "returns = pd.merge(nifty_df1_returns,mphasis_df1_returns,how='inner',on='Date')\n",
        "\n",
        "x = returns['Return_NIFTY']\n",
        "y = returns['Return_MPHASIS']\n",
        "x_sm = sm.add_constant(x)\n",
        "\n",
        "#Regression - Market model \n",
        "model = sm.OLS(y,x_sm)\n",
        "\n",
        "results = model.fit()\n",
        "\n",
        "#Regression result\n",
        "p_val = results.pvalues[1]\n",
        "if p_val < 0.05:\n",
        "  print(\"Beta Significant\")\n",
        "  coeff = results.params\n",
        "  beta1 = coeff[1]\n",
        "else:\n",
        "  print(\"Beta Insignificant\")\n",
        "  beta1 = 0\n",
        "print(\"Beta_levered_Mphasis =\",beta1)"
      ],
      "metadata": {
        "colab": {
          "base_uri": "https://localhost:8080/"
        },
        "id": "M1k8IZV3vRzq",
        "outputId": "6a2b7b17-3428-40f7-cd89-11de10f80ccf"
      },
      "execution_count": null,
      "outputs": [
        {
          "output_type": "stream",
          "name": "stdout",
          "text": [
            "Beta Significant\n",
            "Beta_levered_Mphasis = 1.0605873621224635\n"
          ]
        }
      ]
    },
    {
      "cell_type": "code",
      "source": [
        "#Download stock prices for the security monthly data last 5 years\n",
        "tcs_df = yf.download('TCS.NS', \n",
        "                      start='2015-04-01', \n",
        "                      end='2019-04-01', \n",
        "                      progress=False,interval ='1mo'\n",
        ")\n",
        "infy_df.head()\n",
        "\n",
        "#Caclulate log returns\n",
        "tcs_df['Return_TCS'] = np.log(tcs_df['Adj Close']/tcs_df['Adj Close'].shift(1))\n",
        "\n",
        "wipro_df1 = tcs_df.dropna(axis=0)\n",
        "\n",
        "wipro_df1_returns = wipro_df1['Return_TCS']\n",
        "\n",
        "returns = pd.merge(nifty_df1_returns,wipro_df1_returns,how='inner',on='Date')\n",
        "\n",
        "x = returns['Return_NIFTY']\n",
        "y = returns['Return_TCS']\n",
        "x_sm = sm.add_constant(x)\n",
        "\n",
        "model = sm.OLS(y,x_sm)\n",
        "\n",
        "results = model.fit()\n",
        "\n",
        "#Regression result\n",
        "p_val = results.pvalues[1]\n",
        "if p_val < 0.05:\n",
        "  print(\"Beta Significant\")\n",
        "  coeff = results.params\n",
        "  beta2 = coeff[1]\n",
        "else:\n",
        "  print(\"Beta Insignificant\")\n",
        "  beta2 = 0\n",
        "print(\"Beta_levered_TCS =\",beta2)"
      ],
      "metadata": {
        "id": "p0ByhneP1Q2G",
        "colab": {
          "base_uri": "https://localhost:8080/"
        },
        "outputId": "9ac95ddf-e532-452e-b2f9-1dc25adf355f"
      },
      "execution_count": null,
      "outputs": [
        {
          "output_type": "stream",
          "name": "stdout",
          "text": [
            "Beta Significant\n",
            "Beta_levered_TCS = 1.0756938815720811\n"
          ]
        }
      ]
    },
    {
      "cell_type": "code",
      "source": [
        "#Download stock prices for the security monthly data last 5 years\n",
        "tech_mahindra_df = yf.download('TECHM.NS', \n",
        "                      start='2015-04-01', \n",
        "                      end='2020-04-01', \n",
        "                      progress=False,interval ='1mo'\n",
        ")\n",
        "infy_df.head()\n",
        "#TECHM.NS\n",
        "#Caclulate log returns\n",
        "tech_mahindra_df['Return_TECHM'] = np.log(tech_mahindra_df['Adj Close']/tech_mahindra_df['Adj Close'].shift(1))\n",
        "\n",
        "tech_mahindra_df1 = tech_mahindra_df.dropna(axis=0)\n",
        "\n",
        "tech_mahindra_df1_returns = tech_mahindra_df1['Return_TECHM']\n",
        "\n",
        "returns = pd.merge(nifty_df1_returns,tech_mahindra_df1_returns,how='inner',on='Date')\n",
        "\n",
        "x = returns['Return_NIFTY']\n",
        "y = returns['Return_TECHM']\n",
        "x_sm = sm.add_constant(x)\n",
        "\n",
        "model = sm.OLS(y,x_sm)\n",
        "\n",
        "results = model.fit()\n",
        "\n",
        "#Regression result\n",
        "p_val = results.pvalues[1]\n",
        "if p_val < 0.05:\n",
        "  print(\"Beta Significant\")\n",
        "  coeff = results.params\n",
        "  beta3 = coeff[1]\n",
        "else:\n",
        "  print(\"Beta Insignificant\")\n",
        "  beta3 = 0\n",
        "print(\"Beta_levered_Tech Mahindra =\",beta3)  #Note : Beta levered is zero because its statistically not significant,it can happen that for the period of analysis beta turned out to be zero"
      ],
      "metadata": {
        "id": "Z4gJg_z522WG",
        "colab": {
          "base_uri": "https://localhost:8080/"
        },
        "outputId": "3a183495-43b5-4ce3-a38d-79c6a00885e1"
      },
      "execution_count": null,
      "outputs": [
        {
          "output_type": "stream",
          "name": "stdout",
          "text": [
            "Beta Insignificant\n",
            "Beta_levered_Tech Mahindra = 0\n"
          ]
        }
      ]
    },
    {
      "cell_type": "markdown",
      "source": [
        "**Calculation of Unlevered Beta for Comparable Firms**"
      ],
      "metadata": {
        "id": "QqNyYmA3J2qT"
      }
    },
    {
      "cell_type": "markdown",
      "source": [
        "For finding beta levered for comparable firms Average Debt/equity ratio is considered"
      ],
      "metadata": {
        "id": "tAuDLdwRKCLP"
      }
    },
    {
      "cell_type": "code",
      "source": [
        "mphasis = yf.Ticker(\"MPHASIS.NS\")\n",
        "balancesheet = mphasis.balance_sheet\n",
        "years = balancesheet.columns\n",
        "d_e_final = 0\n",
        "for i in range(1,4):\n",
        "  d_e = balancesheet[years[i]][2]/balancesheet[years[i]][3]\n",
        "  d_e_final += d_e\n",
        "d_e_avg1 = d_e_final / 3\n",
        "print(\"D/E for Mphasis:\",d_e_avg1)\n",
        "balancesheet"
      ],
      "metadata": {
        "colab": {
          "base_uri": "https://localhost:8080/",
          "height": 852
        },
        "id": "h7611YNb4Rlh",
        "outputId": "3023813b-f557-4dba-9332-ff6cc0fc8fbf"
      },
      "execution_count": null,
      "outputs": [
        {
          "output_type": "stream",
          "name": "stdout",
          "text": [
            "D/E for Mphasis: 0.39330078500058896\n"
          ]
        },
        {
          "output_type": "execute_result",
          "data": {
            "text/plain": [
              "                                    2021-03-31    2020-03-31    2019-03-31  \\\n",
              "Intangible Assets                 1.074480e+09  8.872600e+08  9.242500e+08   \n",
              "Capital Surplus                   5.964000e+08  2.661800e+08  6.926000e+07   \n",
              "Total Liab                        2.872238e+10  2.923892e+10  2.121244e+10   \n",
              "Total Stockholder Equity          6.526710e+10  5.829599e+10  5.249818e+10   \n",
              "Deferred Long Term Liab           4.665500e+08  4.630100e+08           NaN   \n",
              "Other Current Liab                3.613900e+09  3.105200e+09  2.992010e+09   \n",
              "Total Assets                      9.398948e+10  8.753491e+10  7.371062e+10   \n",
              "Common Stock                      1.870420e+09  1.865360e+09  1.862190e+09   \n",
              "Other Current Assets              1.972950e+09  1.171040e+09  1.560250e+09   \n",
              "Retained Earnings                 5.413394e+10  4.852846e+10  4.373337e+10   \n",
              "Other Liab                        1.915010e+09  1.722850e+09  1.275110e+09   \n",
              "Good Will                         2.132567e+10  2.140474e+10  1.958455e+10   \n",
              "Treasury Stock                    8.666340e+09  7.635990e+09  6.833360e+09   \n",
              "Other Assets                      8.652410e+09  9.477460e+09  8.239100e+09   \n",
              "Cash                              7.711440e+09  9.880010e+09  3.519780e+09   \n",
              "Total Current Liabilities         2.143699e+10  2.167167e+10  1.993733e+10   \n",
              "Deferred Long Term Asset Charges  1.260720e+09  2.157460e+09  8.138200e+08   \n",
              "Other Stockholder Equity          8.666340e+09  7.635990e+09  6.833360e+09   \n",
              "Property Plant Equipment          7.826240e+09  8.009950e+09  1.217710e+09   \n",
              "Total Current Assets              5.140265e+10  4.413056e+10  4.103052e+10   \n",
              "Long Term Investments             3.708030e+09  3.624940e+09  2.714490e+09   \n",
              "Net Tangible Assets               4.286695e+10  3.600399e+10  3.198938e+10   \n",
              "Short Term Investments            5.794980e+09  2.506580e+09  2.928790e+09   \n",
              "Net Receivables                   2.228693e+10  2.080901e+10  2.143735e+10   \n",
              "Accounts Payable                  5.963960e+09  6.666810e+09  7.850430e+09   \n",
              "\n",
              "                                    2018-03-31  \n",
              "Intangible Assets                 9.542800e+08  \n",
              "Capital Surplus                   9.518000e+07  \n",
              "Total Liab                        1.503555e+10  \n",
              "Total Stockholder Equity          5.481782e+10  \n",
              "Deferred Long Term Liab                    NaN  \n",
              "Other Current Liab                2.328020e+09  \n",
              "Total Assets                      6.985337e+10  \n",
              "Common Stock                      1.932600e+09  \n",
              "Other Current Assets              1.755590e+09  \n",
              "Retained Earnings                 4.742922e+10  \n",
              "Other Liab                        1.015850e+09  \n",
              "Good Will                         1.701472e+10  \n",
              "Treasury Stock                    5.360820e+09  \n",
              "Other Assets                      8.359190e+09  \n",
              "Cash                              4.641760e+09  \n",
              "Total Current Liabilities         1.401970e+10  \n",
              "Deferred Long Term Asset Charges  1.056820e+09  \n",
              "Other Stockholder Equity          5.360820e+09  \n",
              "Property Plant Equipment          8.938100e+08  \n",
              "Total Current Assets              3.946021e+10  \n",
              "Long Term Investments             3.171160e+09  \n",
              "Net Tangible Assets               3.684882e+10  \n",
              "Short Term Investments            2.469630e+09  \n",
              "Net Receivables                   1.510466e+10  \n",
              "Accounts Payable                  5.023920e+09  "
            ],
            "text/html": [
              "\n",
              "  <div id=\"df-8d90f7c3-934d-4e05-a160-015101bd8e60\">\n",
              "    <div class=\"colab-df-container\">\n",
              "      <div>\n",
              "<style scoped>\n",
              "    .dataframe tbody tr th:only-of-type {\n",
              "        vertical-align: middle;\n",
              "    }\n",
              "\n",
              "    .dataframe tbody tr th {\n",
              "        vertical-align: top;\n",
              "    }\n",
              "\n",
              "    .dataframe thead th {\n",
              "        text-align: right;\n",
              "    }\n",
              "</style>\n",
              "<table border=\"1\" class=\"dataframe\">\n",
              "  <thead>\n",
              "    <tr style=\"text-align: right;\">\n",
              "      <th></th>\n",
              "      <th>2021-03-31</th>\n",
              "      <th>2020-03-31</th>\n",
              "      <th>2019-03-31</th>\n",
              "      <th>2018-03-31</th>\n",
              "    </tr>\n",
              "  </thead>\n",
              "  <tbody>\n",
              "    <tr>\n",
              "      <th>Intangible Assets</th>\n",
              "      <td>1.074480e+09</td>\n",
              "      <td>8.872600e+08</td>\n",
              "      <td>9.242500e+08</td>\n",
              "      <td>9.542800e+08</td>\n",
              "    </tr>\n",
              "    <tr>\n",
              "      <th>Capital Surplus</th>\n",
              "      <td>5.964000e+08</td>\n",
              "      <td>2.661800e+08</td>\n",
              "      <td>6.926000e+07</td>\n",
              "      <td>9.518000e+07</td>\n",
              "    </tr>\n",
              "    <tr>\n",
              "      <th>Total Liab</th>\n",
              "      <td>2.872238e+10</td>\n",
              "      <td>2.923892e+10</td>\n",
              "      <td>2.121244e+10</td>\n",
              "      <td>1.503555e+10</td>\n",
              "    </tr>\n",
              "    <tr>\n",
              "      <th>Total Stockholder Equity</th>\n",
              "      <td>6.526710e+10</td>\n",
              "      <td>5.829599e+10</td>\n",
              "      <td>5.249818e+10</td>\n",
              "      <td>5.481782e+10</td>\n",
              "    </tr>\n",
              "    <tr>\n",
              "      <th>Deferred Long Term Liab</th>\n",
              "      <td>4.665500e+08</td>\n",
              "      <td>4.630100e+08</td>\n",
              "      <td>NaN</td>\n",
              "      <td>NaN</td>\n",
              "    </tr>\n",
              "    <tr>\n",
              "      <th>Other Current Liab</th>\n",
              "      <td>3.613900e+09</td>\n",
              "      <td>3.105200e+09</td>\n",
              "      <td>2.992010e+09</td>\n",
              "      <td>2.328020e+09</td>\n",
              "    </tr>\n",
              "    <tr>\n",
              "      <th>Total Assets</th>\n",
              "      <td>9.398948e+10</td>\n",
              "      <td>8.753491e+10</td>\n",
              "      <td>7.371062e+10</td>\n",
              "      <td>6.985337e+10</td>\n",
              "    </tr>\n",
              "    <tr>\n",
              "      <th>Common Stock</th>\n",
              "      <td>1.870420e+09</td>\n",
              "      <td>1.865360e+09</td>\n",
              "      <td>1.862190e+09</td>\n",
              "      <td>1.932600e+09</td>\n",
              "    </tr>\n",
              "    <tr>\n",
              "      <th>Other Current Assets</th>\n",
              "      <td>1.972950e+09</td>\n",
              "      <td>1.171040e+09</td>\n",
              "      <td>1.560250e+09</td>\n",
              "      <td>1.755590e+09</td>\n",
              "    </tr>\n",
              "    <tr>\n",
              "      <th>Retained Earnings</th>\n",
              "      <td>5.413394e+10</td>\n",
              "      <td>4.852846e+10</td>\n",
              "      <td>4.373337e+10</td>\n",
              "      <td>4.742922e+10</td>\n",
              "    </tr>\n",
              "    <tr>\n",
              "      <th>Other Liab</th>\n",
              "      <td>1.915010e+09</td>\n",
              "      <td>1.722850e+09</td>\n",
              "      <td>1.275110e+09</td>\n",
              "      <td>1.015850e+09</td>\n",
              "    </tr>\n",
              "    <tr>\n",
              "      <th>Good Will</th>\n",
              "      <td>2.132567e+10</td>\n",
              "      <td>2.140474e+10</td>\n",
              "      <td>1.958455e+10</td>\n",
              "      <td>1.701472e+10</td>\n",
              "    </tr>\n",
              "    <tr>\n",
              "      <th>Treasury Stock</th>\n",
              "      <td>8.666340e+09</td>\n",
              "      <td>7.635990e+09</td>\n",
              "      <td>6.833360e+09</td>\n",
              "      <td>5.360820e+09</td>\n",
              "    </tr>\n",
              "    <tr>\n",
              "      <th>Other Assets</th>\n",
              "      <td>8.652410e+09</td>\n",
              "      <td>9.477460e+09</td>\n",
              "      <td>8.239100e+09</td>\n",
              "      <td>8.359190e+09</td>\n",
              "    </tr>\n",
              "    <tr>\n",
              "      <th>Cash</th>\n",
              "      <td>7.711440e+09</td>\n",
              "      <td>9.880010e+09</td>\n",
              "      <td>3.519780e+09</td>\n",
              "      <td>4.641760e+09</td>\n",
              "    </tr>\n",
              "    <tr>\n",
              "      <th>Total Current Liabilities</th>\n",
              "      <td>2.143699e+10</td>\n",
              "      <td>2.167167e+10</td>\n",
              "      <td>1.993733e+10</td>\n",
              "      <td>1.401970e+10</td>\n",
              "    </tr>\n",
              "    <tr>\n",
              "      <th>Deferred Long Term Asset Charges</th>\n",
              "      <td>1.260720e+09</td>\n",
              "      <td>2.157460e+09</td>\n",
              "      <td>8.138200e+08</td>\n",
              "      <td>1.056820e+09</td>\n",
              "    </tr>\n",
              "    <tr>\n",
              "      <th>Other Stockholder Equity</th>\n",
              "      <td>8.666340e+09</td>\n",
              "      <td>7.635990e+09</td>\n",
              "      <td>6.833360e+09</td>\n",
              "      <td>5.360820e+09</td>\n",
              "    </tr>\n",
              "    <tr>\n",
              "      <th>Property Plant Equipment</th>\n",
              "      <td>7.826240e+09</td>\n",
              "      <td>8.009950e+09</td>\n",
              "      <td>1.217710e+09</td>\n",
              "      <td>8.938100e+08</td>\n",
              "    </tr>\n",
              "    <tr>\n",
              "      <th>Total Current Assets</th>\n",
              "      <td>5.140265e+10</td>\n",
              "      <td>4.413056e+10</td>\n",
              "      <td>4.103052e+10</td>\n",
              "      <td>3.946021e+10</td>\n",
              "    </tr>\n",
              "    <tr>\n",
              "      <th>Long Term Investments</th>\n",
              "      <td>3.708030e+09</td>\n",
              "      <td>3.624940e+09</td>\n",
              "      <td>2.714490e+09</td>\n",
              "      <td>3.171160e+09</td>\n",
              "    </tr>\n",
              "    <tr>\n",
              "      <th>Net Tangible Assets</th>\n",
              "      <td>4.286695e+10</td>\n",
              "      <td>3.600399e+10</td>\n",
              "      <td>3.198938e+10</td>\n",
              "      <td>3.684882e+10</td>\n",
              "    </tr>\n",
              "    <tr>\n",
              "      <th>Short Term Investments</th>\n",
              "      <td>5.794980e+09</td>\n",
              "      <td>2.506580e+09</td>\n",
              "      <td>2.928790e+09</td>\n",
              "      <td>2.469630e+09</td>\n",
              "    </tr>\n",
              "    <tr>\n",
              "      <th>Net Receivables</th>\n",
              "      <td>2.228693e+10</td>\n",
              "      <td>2.080901e+10</td>\n",
              "      <td>2.143735e+10</td>\n",
              "      <td>1.510466e+10</td>\n",
              "    </tr>\n",
              "    <tr>\n",
              "      <th>Accounts Payable</th>\n",
              "      <td>5.963960e+09</td>\n",
              "      <td>6.666810e+09</td>\n",
              "      <td>7.850430e+09</td>\n",
              "      <td>5.023920e+09</td>\n",
              "    </tr>\n",
              "  </tbody>\n",
              "</table>\n",
              "</div>\n",
              "      <button class=\"colab-df-convert\" onclick=\"convertToInteractive('df-8d90f7c3-934d-4e05-a160-015101bd8e60')\"\n",
              "              title=\"Convert this dataframe to an interactive table.\"\n",
              "              style=\"display:none;\">\n",
              "        \n",
              "  <svg xmlns=\"http://www.w3.org/2000/svg\" height=\"24px\"viewBox=\"0 0 24 24\"\n",
              "       width=\"24px\">\n",
              "    <path d=\"M0 0h24v24H0V0z\" fill=\"none\"/>\n",
              "    <path d=\"M18.56 5.44l.94 2.06.94-2.06 2.06-.94-2.06-.94-.94-2.06-.94 2.06-2.06.94zm-11 1L8.5 8.5l.94-2.06 2.06-.94-2.06-.94L8.5 2.5l-.94 2.06-2.06.94zm10 10l.94 2.06.94-2.06 2.06-.94-2.06-.94-.94-2.06-.94 2.06-2.06.94z\"/><path d=\"M17.41 7.96l-1.37-1.37c-.4-.4-.92-.59-1.43-.59-.52 0-1.04.2-1.43.59L10.3 9.45l-7.72 7.72c-.78.78-.78 2.05 0 2.83L4 21.41c.39.39.9.59 1.41.59.51 0 1.02-.2 1.41-.59l7.78-7.78 2.81-2.81c.8-.78.8-2.07 0-2.86zM5.41 20L4 18.59l7.72-7.72 1.47 1.35L5.41 20z\"/>\n",
              "  </svg>\n",
              "      </button>\n",
              "      \n",
              "  <style>\n",
              "    .colab-df-container {\n",
              "      display:flex;\n",
              "      flex-wrap:wrap;\n",
              "      gap: 12px;\n",
              "    }\n",
              "\n",
              "    .colab-df-convert {\n",
              "      background-color: #E8F0FE;\n",
              "      border: none;\n",
              "      border-radius: 50%;\n",
              "      cursor: pointer;\n",
              "      display: none;\n",
              "      fill: #1967D2;\n",
              "      height: 32px;\n",
              "      padding: 0 0 0 0;\n",
              "      width: 32px;\n",
              "    }\n",
              "\n",
              "    .colab-df-convert:hover {\n",
              "      background-color: #E2EBFA;\n",
              "      box-shadow: 0px 1px 2px rgba(60, 64, 67, 0.3), 0px 1px 3px 1px rgba(60, 64, 67, 0.15);\n",
              "      fill: #174EA6;\n",
              "    }\n",
              "\n",
              "    [theme=dark] .colab-df-convert {\n",
              "      background-color: #3B4455;\n",
              "      fill: #D2E3FC;\n",
              "    }\n",
              "\n",
              "    [theme=dark] .colab-df-convert:hover {\n",
              "      background-color: #434B5C;\n",
              "      box-shadow: 0px 1px 3px 1px rgba(0, 0, 0, 0.15);\n",
              "      filter: drop-shadow(0px 1px 2px rgba(0, 0, 0, 0.3));\n",
              "      fill: #FFFFFF;\n",
              "    }\n",
              "  </style>\n",
              "\n",
              "      <script>\n",
              "        const buttonEl =\n",
              "          document.querySelector('#df-8d90f7c3-934d-4e05-a160-015101bd8e60 button.colab-df-convert');\n",
              "        buttonEl.style.display =\n",
              "          google.colab.kernel.accessAllowed ? 'block' : 'none';\n",
              "\n",
              "        async function convertToInteractive(key) {\n",
              "          const element = document.querySelector('#df-8d90f7c3-934d-4e05-a160-015101bd8e60');\n",
              "          const dataTable =\n",
              "            await google.colab.kernel.invokeFunction('convertToInteractive',\n",
              "                                                     [key], {});\n",
              "          if (!dataTable) return;\n",
              "\n",
              "          const docLinkHtml = 'Like what you see? Visit the ' +\n",
              "            '<a target=\"_blank\" href=https://colab.research.google.com/notebooks/data_table.ipynb>data table notebook</a>'\n",
              "            + ' to learn more about interactive tables.';\n",
              "          element.innerHTML = '';\n",
              "          dataTable['output_type'] = 'display_data';\n",
              "          await google.colab.output.renderOutput(dataTable, element);\n",
              "          const docLink = document.createElement('div');\n",
              "          docLink.innerHTML = docLinkHtml;\n",
              "          element.appendChild(docLink);\n",
              "        }\n",
              "      </script>\n",
              "    </div>\n",
              "  </div>\n",
              "  "
            ]
          },
          "metadata": {},
          "execution_count": 27
        }
      ]
    },
    {
      "cell_type": "code",
      "source": [
        "tcs = yf.Ticker(\"TCS.NS\")\n",
        "balancesheet = tcs.balance_sheet\n",
        "years = balancesheet.columns\n",
        "d_e_final = 0\n",
        "for i in range(1,4):\n",
        "  d_e = balancesheet[years[i]][1]/balancesheet[years[i]][2]\n",
        "  d_e_final += d_e\n",
        "d_e_avg2 = d_e_final / 3\n",
        "print(\"D/E for TCS:\",d_e_avg2)\n",
        "balancesheet"
      ],
      "metadata": {
        "colab": {
          "base_uri": "https://localhost:8080/",
          "height": 883
        },
        "id": "86mHzBaH6xxB",
        "outputId": "f58b2645-ed84-4f5e-b235-683429458fae"
      },
      "execution_count": null,
      "outputs": [
        {
          "output_type": "stream",
          "name": "stdout",
          "text": [
            "D/E for TCS: 0.31788042508962405\n"
          ]
        },
        {
          "output_type": "execute_result",
          "data": {
            "text/plain": [
              "                                    2021-03-31    2020-03-31    2019-03-31  \\\n",
              "Intangible Assets                 4.800000e+09  2.830000e+09  1.790000e+09   \n",
              "Total Liab                        4.365100e+11  3.615000e+11  2.504400e+11   \n",
              "Total Stockholder Equity          8.643300e+11  8.412600e+11  8.944600e+11   \n",
              "Minority Interest                 6.750000e+09  6.230000e+09  4.530000e+09   \n",
              "Deferred Long Term Liab           2.280000e+09  2.860000e+09  1.740000e+09   \n",
              "Other Current Liab                1.329700e+11  9.520000e+10  7.629000e+10   \n",
              "Total Assets                      1.307590e+12  1.208990e+12  1.149430e+12   \n",
              "Common Stock                      3.700000e+09  3.750000e+09  3.750000e+09   \n",
              "Other Current Assets              2.224000e+10  1.971000e+10  2.087000e+10   \n",
              "Retained Earnings                 8.255800e+11  8.080600e+11  8.688900e+11   \n",
              "Other Liab                        2.993000e+10  2.184000e+10  2.916000e+10   \n",
              "Good Will                         1.798000e+10  1.710000e+10  1.700000e+10   \n",
              "Treasury Stock                    3.505000e+10  2.945000e+10  2.182000e+10   \n",
              "Other Assets                      8.775000e+10  8.438000e+10  9.501000e+10   \n",
              "Cash                              6.858000e+10  8.646000e+10  7.224000e+10   \n",
              "Total Current Liabilities         3.415500e+11  2.706000e+11  2.208400e+11   \n",
              "Deferred Long Term Asset Charges  3.931000e+10  2.828000e+10  2.656000e+10   \n",
              "Other Stockholder Equity          3.505000e+10  2.945000e+10  2.182000e+10   \n",
              "Property Plant Equipment          1.966900e+11  1.984100e+11  1.137400e+11   \n",
              "Total Current Assets              9.928000e+11  9.023700e+11  9.213100e+11   \n",
              "Long Term Investments             7.570000e+09  3.900000e+09  5.800000e+08   \n",
              "Net Tangible Assets               8.415500e+11  8.213300e+11  8.756700e+11   \n",
              "Short Term Investments            2.651800e+11  2.525300e+11  5.939000e+10   \n",
              "Net Receivables                   5.408900e+11  5.115700e+11  4.762700e+11   \n",
              "Inventory                         8.000000e+07  5.000000e+07  1.000000e+08   \n",
              "Accounts Payable                  7.860000e+10  6.740000e+10  6.292000e+10   \n",
              "\n",
              "                                    2018-03-31  \n",
              "Intangible Assets                 1.200000e+08  \n",
              "Total Liab                        2.076600e+11  \n",
              "Total Stockholder Equity          8.512800e+11  \n",
              "Minority Interest                 4.020000e+09  \n",
              "Deferred Long Term Liab           9.500000e+08  \n",
              "Other Current Liab                5.801000e+10  \n",
              "Total Assets                      1.062960e+12  \n",
              "Common Stock                      1.910000e+09  \n",
              "Other Current Assets              1.353000e+10  \n",
              "Retained Earnings                 8.301400e+11  \n",
              "Other Liab                        2.884000e+10  \n",
              "Good Will                         1.745000e+10  \n",
              "Treasury Stock                    1.923000e+10  \n",
              "Other Assets                      1.170500e+11  \n",
              "Cash                              4.883000e+10  \n",
              "Total Current Liabilities         1.782800e+11  \n",
              "Deferred Long Term Asset Charges  3.449000e+10  \n",
              "Other Stockholder Equity          1.923000e+10  \n",
              "Property Plant Equipment          1.149400e+11  \n",
              "Total Current Assets              8.122400e+11  \n",
              "Long Term Investments             1.160000e+09  \n",
              "Net Tangible Assets               8.337100e+11  \n",
              "Short Term Investments            2.056000e+10  \n",
              "Net Receivables                   3.610400e+11  \n",
              "Inventory                         2.600000e+08  \n",
              "Accounts Payable                  5.094000e+10  "
            ],
            "text/html": [
              "\n",
              "  <div id=\"df-856a91ef-12a1-4049-afca-fecd6a717c33\">\n",
              "    <div class=\"colab-df-container\">\n",
              "      <div>\n",
              "<style scoped>\n",
              "    .dataframe tbody tr th:only-of-type {\n",
              "        vertical-align: middle;\n",
              "    }\n",
              "\n",
              "    .dataframe tbody tr th {\n",
              "        vertical-align: top;\n",
              "    }\n",
              "\n",
              "    .dataframe thead th {\n",
              "        text-align: right;\n",
              "    }\n",
              "</style>\n",
              "<table border=\"1\" class=\"dataframe\">\n",
              "  <thead>\n",
              "    <tr style=\"text-align: right;\">\n",
              "      <th></th>\n",
              "      <th>2021-03-31</th>\n",
              "      <th>2020-03-31</th>\n",
              "      <th>2019-03-31</th>\n",
              "      <th>2018-03-31</th>\n",
              "    </tr>\n",
              "  </thead>\n",
              "  <tbody>\n",
              "    <tr>\n",
              "      <th>Intangible Assets</th>\n",
              "      <td>4.800000e+09</td>\n",
              "      <td>2.830000e+09</td>\n",
              "      <td>1.790000e+09</td>\n",
              "      <td>1.200000e+08</td>\n",
              "    </tr>\n",
              "    <tr>\n",
              "      <th>Total Liab</th>\n",
              "      <td>4.365100e+11</td>\n",
              "      <td>3.615000e+11</td>\n",
              "      <td>2.504400e+11</td>\n",
              "      <td>2.076600e+11</td>\n",
              "    </tr>\n",
              "    <tr>\n",
              "      <th>Total Stockholder Equity</th>\n",
              "      <td>8.643300e+11</td>\n",
              "      <td>8.412600e+11</td>\n",
              "      <td>8.944600e+11</td>\n",
              "      <td>8.512800e+11</td>\n",
              "    </tr>\n",
              "    <tr>\n",
              "      <th>Minority Interest</th>\n",
              "      <td>6.750000e+09</td>\n",
              "      <td>6.230000e+09</td>\n",
              "      <td>4.530000e+09</td>\n",
              "      <td>4.020000e+09</td>\n",
              "    </tr>\n",
              "    <tr>\n",
              "      <th>Deferred Long Term Liab</th>\n",
              "      <td>2.280000e+09</td>\n",
              "      <td>2.860000e+09</td>\n",
              "      <td>1.740000e+09</td>\n",
              "      <td>9.500000e+08</td>\n",
              "    </tr>\n",
              "    <tr>\n",
              "      <th>Other Current Liab</th>\n",
              "      <td>1.329700e+11</td>\n",
              "      <td>9.520000e+10</td>\n",
              "      <td>7.629000e+10</td>\n",
              "      <td>5.801000e+10</td>\n",
              "    </tr>\n",
              "    <tr>\n",
              "      <th>Total Assets</th>\n",
              "      <td>1.307590e+12</td>\n",
              "      <td>1.208990e+12</td>\n",
              "      <td>1.149430e+12</td>\n",
              "      <td>1.062960e+12</td>\n",
              "    </tr>\n",
              "    <tr>\n",
              "      <th>Common Stock</th>\n",
              "      <td>3.700000e+09</td>\n",
              "      <td>3.750000e+09</td>\n",
              "      <td>3.750000e+09</td>\n",
              "      <td>1.910000e+09</td>\n",
              "    </tr>\n",
              "    <tr>\n",
              "      <th>Other Current Assets</th>\n",
              "      <td>2.224000e+10</td>\n",
              "      <td>1.971000e+10</td>\n",
              "      <td>2.087000e+10</td>\n",
              "      <td>1.353000e+10</td>\n",
              "    </tr>\n",
              "    <tr>\n",
              "      <th>Retained Earnings</th>\n",
              "      <td>8.255800e+11</td>\n",
              "      <td>8.080600e+11</td>\n",
              "      <td>8.688900e+11</td>\n",
              "      <td>8.301400e+11</td>\n",
              "    </tr>\n",
              "    <tr>\n",
              "      <th>Other Liab</th>\n",
              "      <td>2.993000e+10</td>\n",
              "      <td>2.184000e+10</td>\n",
              "      <td>2.916000e+10</td>\n",
              "      <td>2.884000e+10</td>\n",
              "    </tr>\n",
              "    <tr>\n",
              "      <th>Good Will</th>\n",
              "      <td>1.798000e+10</td>\n",
              "      <td>1.710000e+10</td>\n",
              "      <td>1.700000e+10</td>\n",
              "      <td>1.745000e+10</td>\n",
              "    </tr>\n",
              "    <tr>\n",
              "      <th>Treasury Stock</th>\n",
              "      <td>3.505000e+10</td>\n",
              "      <td>2.945000e+10</td>\n",
              "      <td>2.182000e+10</td>\n",
              "      <td>1.923000e+10</td>\n",
              "    </tr>\n",
              "    <tr>\n",
              "      <th>Other Assets</th>\n",
              "      <td>8.775000e+10</td>\n",
              "      <td>8.438000e+10</td>\n",
              "      <td>9.501000e+10</td>\n",
              "      <td>1.170500e+11</td>\n",
              "    </tr>\n",
              "    <tr>\n",
              "      <th>Cash</th>\n",
              "      <td>6.858000e+10</td>\n",
              "      <td>8.646000e+10</td>\n",
              "      <td>7.224000e+10</td>\n",
              "      <td>4.883000e+10</td>\n",
              "    </tr>\n",
              "    <tr>\n",
              "      <th>Total Current Liabilities</th>\n",
              "      <td>3.415500e+11</td>\n",
              "      <td>2.706000e+11</td>\n",
              "      <td>2.208400e+11</td>\n",
              "      <td>1.782800e+11</td>\n",
              "    </tr>\n",
              "    <tr>\n",
              "      <th>Deferred Long Term Asset Charges</th>\n",
              "      <td>3.931000e+10</td>\n",
              "      <td>2.828000e+10</td>\n",
              "      <td>2.656000e+10</td>\n",
              "      <td>3.449000e+10</td>\n",
              "    </tr>\n",
              "    <tr>\n",
              "      <th>Other Stockholder Equity</th>\n",
              "      <td>3.505000e+10</td>\n",
              "      <td>2.945000e+10</td>\n",
              "      <td>2.182000e+10</td>\n",
              "      <td>1.923000e+10</td>\n",
              "    </tr>\n",
              "    <tr>\n",
              "      <th>Property Plant Equipment</th>\n",
              "      <td>1.966900e+11</td>\n",
              "      <td>1.984100e+11</td>\n",
              "      <td>1.137400e+11</td>\n",
              "      <td>1.149400e+11</td>\n",
              "    </tr>\n",
              "    <tr>\n",
              "      <th>Total Current Assets</th>\n",
              "      <td>9.928000e+11</td>\n",
              "      <td>9.023700e+11</td>\n",
              "      <td>9.213100e+11</td>\n",
              "      <td>8.122400e+11</td>\n",
              "    </tr>\n",
              "    <tr>\n",
              "      <th>Long Term Investments</th>\n",
              "      <td>7.570000e+09</td>\n",
              "      <td>3.900000e+09</td>\n",
              "      <td>5.800000e+08</td>\n",
              "      <td>1.160000e+09</td>\n",
              "    </tr>\n",
              "    <tr>\n",
              "      <th>Net Tangible Assets</th>\n",
              "      <td>8.415500e+11</td>\n",
              "      <td>8.213300e+11</td>\n",
              "      <td>8.756700e+11</td>\n",
              "      <td>8.337100e+11</td>\n",
              "    </tr>\n",
              "    <tr>\n",
              "      <th>Short Term Investments</th>\n",
              "      <td>2.651800e+11</td>\n",
              "      <td>2.525300e+11</td>\n",
              "      <td>5.939000e+10</td>\n",
              "      <td>2.056000e+10</td>\n",
              "    </tr>\n",
              "    <tr>\n",
              "      <th>Net Receivables</th>\n",
              "      <td>5.408900e+11</td>\n",
              "      <td>5.115700e+11</td>\n",
              "      <td>4.762700e+11</td>\n",
              "      <td>3.610400e+11</td>\n",
              "    </tr>\n",
              "    <tr>\n",
              "      <th>Inventory</th>\n",
              "      <td>8.000000e+07</td>\n",
              "      <td>5.000000e+07</td>\n",
              "      <td>1.000000e+08</td>\n",
              "      <td>2.600000e+08</td>\n",
              "    </tr>\n",
              "    <tr>\n",
              "      <th>Accounts Payable</th>\n",
              "      <td>7.860000e+10</td>\n",
              "      <td>6.740000e+10</td>\n",
              "      <td>6.292000e+10</td>\n",
              "      <td>5.094000e+10</td>\n",
              "    </tr>\n",
              "  </tbody>\n",
              "</table>\n",
              "</div>\n",
              "      <button class=\"colab-df-convert\" onclick=\"convertToInteractive('df-856a91ef-12a1-4049-afca-fecd6a717c33')\"\n",
              "              title=\"Convert this dataframe to an interactive table.\"\n",
              "              style=\"display:none;\">\n",
              "        \n",
              "  <svg xmlns=\"http://www.w3.org/2000/svg\" height=\"24px\"viewBox=\"0 0 24 24\"\n",
              "       width=\"24px\">\n",
              "    <path d=\"M0 0h24v24H0V0z\" fill=\"none\"/>\n",
              "    <path d=\"M18.56 5.44l.94 2.06.94-2.06 2.06-.94-2.06-.94-.94-2.06-.94 2.06-2.06.94zm-11 1L8.5 8.5l.94-2.06 2.06-.94-2.06-.94L8.5 2.5l-.94 2.06-2.06.94zm10 10l.94 2.06.94-2.06 2.06-.94-2.06-.94-.94-2.06-.94 2.06-2.06.94z\"/><path d=\"M17.41 7.96l-1.37-1.37c-.4-.4-.92-.59-1.43-.59-.52 0-1.04.2-1.43.59L10.3 9.45l-7.72 7.72c-.78.78-.78 2.05 0 2.83L4 21.41c.39.39.9.59 1.41.59.51 0 1.02-.2 1.41-.59l7.78-7.78 2.81-2.81c.8-.78.8-2.07 0-2.86zM5.41 20L4 18.59l7.72-7.72 1.47 1.35L5.41 20z\"/>\n",
              "  </svg>\n",
              "      </button>\n",
              "      \n",
              "  <style>\n",
              "    .colab-df-container {\n",
              "      display:flex;\n",
              "      flex-wrap:wrap;\n",
              "      gap: 12px;\n",
              "    }\n",
              "\n",
              "    .colab-df-convert {\n",
              "      background-color: #E8F0FE;\n",
              "      border: none;\n",
              "      border-radius: 50%;\n",
              "      cursor: pointer;\n",
              "      display: none;\n",
              "      fill: #1967D2;\n",
              "      height: 32px;\n",
              "      padding: 0 0 0 0;\n",
              "      width: 32px;\n",
              "    }\n",
              "\n",
              "    .colab-df-convert:hover {\n",
              "      background-color: #E2EBFA;\n",
              "      box-shadow: 0px 1px 2px rgba(60, 64, 67, 0.3), 0px 1px 3px 1px rgba(60, 64, 67, 0.15);\n",
              "      fill: #174EA6;\n",
              "    }\n",
              "\n",
              "    [theme=dark] .colab-df-convert {\n",
              "      background-color: #3B4455;\n",
              "      fill: #D2E3FC;\n",
              "    }\n",
              "\n",
              "    [theme=dark] .colab-df-convert:hover {\n",
              "      background-color: #434B5C;\n",
              "      box-shadow: 0px 1px 3px 1px rgba(0, 0, 0, 0.15);\n",
              "      filter: drop-shadow(0px 1px 2px rgba(0, 0, 0, 0.3));\n",
              "      fill: #FFFFFF;\n",
              "    }\n",
              "  </style>\n",
              "\n",
              "      <script>\n",
              "        const buttonEl =\n",
              "          document.querySelector('#df-856a91ef-12a1-4049-afca-fecd6a717c33 button.colab-df-convert');\n",
              "        buttonEl.style.display =\n",
              "          google.colab.kernel.accessAllowed ? 'block' : 'none';\n",
              "\n",
              "        async function convertToInteractive(key) {\n",
              "          const element = document.querySelector('#df-856a91ef-12a1-4049-afca-fecd6a717c33');\n",
              "          const dataTable =\n",
              "            await google.colab.kernel.invokeFunction('convertToInteractive',\n",
              "                                                     [key], {});\n",
              "          if (!dataTable) return;\n",
              "\n",
              "          const docLinkHtml = 'Like what you see? Visit the ' +\n",
              "            '<a target=\"_blank\" href=https://colab.research.google.com/notebooks/data_table.ipynb>data table notebook</a>'\n",
              "            + ' to learn more about interactive tables.';\n",
              "          element.innerHTML = '';\n",
              "          dataTable['output_type'] = 'display_data';\n",
              "          await google.colab.output.renderOutput(dataTable, element);\n",
              "          const docLink = document.createElement('div');\n",
              "          docLink.innerHTML = docLinkHtml;\n",
              "          element.appendChild(docLink);\n",
              "        }\n",
              "      </script>\n",
              "    </div>\n",
              "  </div>\n",
              "  "
            ]
          },
          "metadata": {},
          "execution_count": 28
        }
      ]
    },
    {
      "cell_type": "code",
      "source": [
        "tech_mahindra = yf.Ticker(\"TECHM.NS\")\n",
        "balancesheet = tech_mahindra.balance_sheet\n",
        "years = balancesheet.columns\n",
        "d_e_final = 0\n",
        "for i in range(1,4):\n",
        "  d_e = balancesheet[years[i]][2]/balancesheet[years[i]][3]\n",
        "  d_e_final += d_e\n",
        "d_e_avg3 = d_e_final / 3\n",
        "print(\"D/E for Tech Mahindra:\",d_e_avg3)\n",
        "balancesheet"
      ],
      "metadata": {
        "colab": {
          "base_uri": "https://localhost:8080/",
          "height": 977
        },
        "id": "fKFJaBCP61bA",
        "outputId": "9422e682-3451-4785-c086-e8d8ae6ec6f1"
      },
      "execution_count": null,
      "outputs": [
        {
          "output_type": "stream",
          "name": "stdout",
          "text": [
            "D/E for Tech Mahindra: 0.6360185550910279\n"
          ]
        },
        {
          "output_type": "execute_result",
          "data": {
            "text/plain": [
              "                                    2021-03-31    2020-03-31    2019-03-31  \\\n",
              "Intangible Assets                 1.450800e+10  1.506000e+10  1.451200e+10   \n",
              "Capital Surplus                   1.057000e+10  9.208000e+09  7.611000e+09   \n",
              "Total Liab                        1.443350e+11  1.514710e+11  1.268480e+11   \n",
              "Total Stockholder Equity          2.486500e+11  2.181310e+11  2.028440e+11   \n",
              "Minority Interest                 3.795000e+09  3.933000e+09  4.777000e+09   \n",
              "Deferred Long Term Liab           8.468000e+09  9.724000e+09  6.660000e+08   \n",
              "Other Current Liab                3.724400e+10  3.590800e+10  4.780500e+10   \n",
              "Total Assets                      3.967800e+11  3.735350e+11  3.344690e+11   \n",
              "Common Stock                      4.841000e+09  4.830000e+09  4.917000e+09   \n",
              "Other Current Assets              1.954200e+10  2.085900e+10  2.217000e+10   \n",
              "Retained Earnings                 2.214970e+11  1.969160e+11  1.825640e+11   \n",
              "Other Liab                        3.182500e+10  3.188800e+10  2.145000e+10   \n",
              "Good Will                         4.008200e+10  3.387700e+10  2.816300e+10   \n",
              "Treasury Stock                    1.174200e+10  7.177000e+09  7.752000e+09   \n",
              "Other Assets                      4.775400e+10  5.123300e+10  3.909800e+10   \n",
              "Cash                              2.690400e+10  3.016700e+10  2.042700e+10   \n",
              "Total Current Liabilities         1.027750e+11  1.092570e+11  1.033120e+11   \n",
              "Deferred Long Term Asset Charges  9.133000e+09  8.443000e+09  6.091000e+09   \n",
              "Short Long Term Debt              3.100000e+08  4.250000e+08  5.609000e+09   \n",
              "Other Stockholder Equity          1.221300e+10  7.648000e+09  8.232000e+09   \n",
              "Property Plant Equipment          3.588700e+10  3.884000e+10  2.899200e+10   \n",
              "Total Current Assets              2.525530e+11  2.317230e+11  2.156580e+11   \n",
              "Long Term Investments             5.996000e+09  2.802000e+09  8.046000e+09   \n",
              "Net Tangible Assets               1.940600e+11  1.691940e+11  1.601690e+11   \n",
              "Short Term Investments            9.367000e+09  1.157200e+10  1.251600e+10   \n",
              "Net Receivables                   1.008020e+11  1.172370e+11  1.019080e+11   \n",
              "Long Term Debt                    1.658000e+09  1.787000e+09  1.844000e+09   \n",
              "Inventory                         2.420000e+08  3.580000e+08  7.520000e+08   \n",
              "Accounts Payable                  2.785000e+10  3.256600e+10  2.489300e+10   \n",
              "\n",
              "                                    2018-03-31  \n",
              "Intangible Assets                 1.678100e+10  \n",
              "Capital Surplus                   2.378900e+10  \n",
              "Total Liab                        1.108530e+11  \n",
              "Total Stockholder Equity          1.884280e+11  \n",
              "Minority Interest                 5.091000e+09  \n",
              "Deferred Long Term Liab           1.055000e+09  \n",
              "Other Current Liab                2.865300e+10  \n",
              "Total Assets                      3.043720e+11  \n",
              "Common Stock                      4.897000e+09  \n",
              "Other Current Assets              1.956400e+10  \n",
              "Retained Earnings                 1.543610e+11  \n",
              "Other Liab                        2.397500e+10  \n",
              "Good Will                         2.772700e+10  \n",
              "Treasury Stock                    5.381000e+09  \n",
              "Other Assets                      3.401200e+10  \n",
              "Cash                              1.966100e+10  \n",
              "Total Current Liabilities         7.916700e+10  \n",
              "Deferred Long Term Asset Charges  5.766000e+09  \n",
              "Short Long Term Debt              5.375000e+09  \n",
              "Other Stockholder Equity          5.861000e+09  \n",
              "Property Plant Equipment          3.220900e+10  \n",
              "Total Current Assets              1.810700e+11  \n",
              "Long Term Investments             1.257300e+10  \n",
              "Net Tangible Assets               1.439200e+11  \n",
              "Short Term Investments            1.582000e+10  \n",
              "Net Receivables                   9.070900e+10  \n",
              "Long Term Debt                    6.004000e+09  \n",
              "Inventory                         6.590000e+08  \n",
              "Accounts Payable                  2.036800e+10  "
            ],
            "text/html": [
              "\n",
              "  <div id=\"df-d222c91f-1976-4f3d-92e3-03f911f9916a\">\n",
              "    <div class=\"colab-df-container\">\n",
              "      <div>\n",
              "<style scoped>\n",
              "    .dataframe tbody tr th:only-of-type {\n",
              "        vertical-align: middle;\n",
              "    }\n",
              "\n",
              "    .dataframe tbody tr th {\n",
              "        vertical-align: top;\n",
              "    }\n",
              "\n",
              "    .dataframe thead th {\n",
              "        text-align: right;\n",
              "    }\n",
              "</style>\n",
              "<table border=\"1\" class=\"dataframe\">\n",
              "  <thead>\n",
              "    <tr style=\"text-align: right;\">\n",
              "      <th></th>\n",
              "      <th>2021-03-31</th>\n",
              "      <th>2020-03-31</th>\n",
              "      <th>2019-03-31</th>\n",
              "      <th>2018-03-31</th>\n",
              "    </tr>\n",
              "  </thead>\n",
              "  <tbody>\n",
              "    <tr>\n",
              "      <th>Intangible Assets</th>\n",
              "      <td>1.450800e+10</td>\n",
              "      <td>1.506000e+10</td>\n",
              "      <td>1.451200e+10</td>\n",
              "      <td>1.678100e+10</td>\n",
              "    </tr>\n",
              "    <tr>\n",
              "      <th>Capital Surplus</th>\n",
              "      <td>1.057000e+10</td>\n",
              "      <td>9.208000e+09</td>\n",
              "      <td>7.611000e+09</td>\n",
              "      <td>2.378900e+10</td>\n",
              "    </tr>\n",
              "    <tr>\n",
              "      <th>Total Liab</th>\n",
              "      <td>1.443350e+11</td>\n",
              "      <td>1.514710e+11</td>\n",
              "      <td>1.268480e+11</td>\n",
              "      <td>1.108530e+11</td>\n",
              "    </tr>\n",
              "    <tr>\n",
              "      <th>Total Stockholder Equity</th>\n",
              "      <td>2.486500e+11</td>\n",
              "      <td>2.181310e+11</td>\n",
              "      <td>2.028440e+11</td>\n",
              "      <td>1.884280e+11</td>\n",
              "    </tr>\n",
              "    <tr>\n",
              "      <th>Minority Interest</th>\n",
              "      <td>3.795000e+09</td>\n",
              "      <td>3.933000e+09</td>\n",
              "      <td>4.777000e+09</td>\n",
              "      <td>5.091000e+09</td>\n",
              "    </tr>\n",
              "    <tr>\n",
              "      <th>Deferred Long Term Liab</th>\n",
              "      <td>8.468000e+09</td>\n",
              "      <td>9.724000e+09</td>\n",
              "      <td>6.660000e+08</td>\n",
              "      <td>1.055000e+09</td>\n",
              "    </tr>\n",
              "    <tr>\n",
              "      <th>Other Current Liab</th>\n",
              "      <td>3.724400e+10</td>\n",
              "      <td>3.590800e+10</td>\n",
              "      <td>4.780500e+10</td>\n",
              "      <td>2.865300e+10</td>\n",
              "    </tr>\n",
              "    <tr>\n",
              "      <th>Total Assets</th>\n",
              "      <td>3.967800e+11</td>\n",
              "      <td>3.735350e+11</td>\n",
              "      <td>3.344690e+11</td>\n",
              "      <td>3.043720e+11</td>\n",
              "    </tr>\n",
              "    <tr>\n",
              "      <th>Common Stock</th>\n",
              "      <td>4.841000e+09</td>\n",
              "      <td>4.830000e+09</td>\n",
              "      <td>4.917000e+09</td>\n",
              "      <td>4.897000e+09</td>\n",
              "    </tr>\n",
              "    <tr>\n",
              "      <th>Other Current Assets</th>\n",
              "      <td>1.954200e+10</td>\n",
              "      <td>2.085900e+10</td>\n",
              "      <td>2.217000e+10</td>\n",
              "      <td>1.956400e+10</td>\n",
              "    </tr>\n",
              "    <tr>\n",
              "      <th>Retained Earnings</th>\n",
              "      <td>2.214970e+11</td>\n",
              "      <td>1.969160e+11</td>\n",
              "      <td>1.825640e+11</td>\n",
              "      <td>1.543610e+11</td>\n",
              "    </tr>\n",
              "    <tr>\n",
              "      <th>Other Liab</th>\n",
              "      <td>3.182500e+10</td>\n",
              "      <td>3.188800e+10</td>\n",
              "      <td>2.145000e+10</td>\n",
              "      <td>2.397500e+10</td>\n",
              "    </tr>\n",
              "    <tr>\n",
              "      <th>Good Will</th>\n",
              "      <td>4.008200e+10</td>\n",
              "      <td>3.387700e+10</td>\n",
              "      <td>2.816300e+10</td>\n",
              "      <td>2.772700e+10</td>\n",
              "    </tr>\n",
              "    <tr>\n",
              "      <th>Treasury Stock</th>\n",
              "      <td>1.174200e+10</td>\n",
              "      <td>7.177000e+09</td>\n",
              "      <td>7.752000e+09</td>\n",
              "      <td>5.381000e+09</td>\n",
              "    </tr>\n",
              "    <tr>\n",
              "      <th>Other Assets</th>\n",
              "      <td>4.775400e+10</td>\n",
              "      <td>5.123300e+10</td>\n",
              "      <td>3.909800e+10</td>\n",
              "      <td>3.401200e+10</td>\n",
              "    </tr>\n",
              "    <tr>\n",
              "      <th>Cash</th>\n",
              "      <td>2.690400e+10</td>\n",
              "      <td>3.016700e+10</td>\n",
              "      <td>2.042700e+10</td>\n",
              "      <td>1.966100e+10</td>\n",
              "    </tr>\n",
              "    <tr>\n",
              "      <th>Total Current Liabilities</th>\n",
              "      <td>1.027750e+11</td>\n",
              "      <td>1.092570e+11</td>\n",
              "      <td>1.033120e+11</td>\n",
              "      <td>7.916700e+10</td>\n",
              "    </tr>\n",
              "    <tr>\n",
              "      <th>Deferred Long Term Asset Charges</th>\n",
              "      <td>9.133000e+09</td>\n",
              "      <td>8.443000e+09</td>\n",
              "      <td>6.091000e+09</td>\n",
              "      <td>5.766000e+09</td>\n",
              "    </tr>\n",
              "    <tr>\n",
              "      <th>Short Long Term Debt</th>\n",
              "      <td>3.100000e+08</td>\n",
              "      <td>4.250000e+08</td>\n",
              "      <td>5.609000e+09</td>\n",
              "      <td>5.375000e+09</td>\n",
              "    </tr>\n",
              "    <tr>\n",
              "      <th>Other Stockholder Equity</th>\n",
              "      <td>1.221300e+10</td>\n",
              "      <td>7.648000e+09</td>\n",
              "      <td>8.232000e+09</td>\n",
              "      <td>5.861000e+09</td>\n",
              "    </tr>\n",
              "    <tr>\n",
              "      <th>Property Plant Equipment</th>\n",
              "      <td>3.588700e+10</td>\n",
              "      <td>3.884000e+10</td>\n",
              "      <td>2.899200e+10</td>\n",
              "      <td>3.220900e+10</td>\n",
              "    </tr>\n",
              "    <tr>\n",
              "      <th>Total Current Assets</th>\n",
              "      <td>2.525530e+11</td>\n",
              "      <td>2.317230e+11</td>\n",
              "      <td>2.156580e+11</td>\n",
              "      <td>1.810700e+11</td>\n",
              "    </tr>\n",
              "    <tr>\n",
              "      <th>Long Term Investments</th>\n",
              "      <td>5.996000e+09</td>\n",
              "      <td>2.802000e+09</td>\n",
              "      <td>8.046000e+09</td>\n",
              "      <td>1.257300e+10</td>\n",
              "    </tr>\n",
              "    <tr>\n",
              "      <th>Net Tangible Assets</th>\n",
              "      <td>1.940600e+11</td>\n",
              "      <td>1.691940e+11</td>\n",
              "      <td>1.601690e+11</td>\n",
              "      <td>1.439200e+11</td>\n",
              "    </tr>\n",
              "    <tr>\n",
              "      <th>Short Term Investments</th>\n",
              "      <td>9.367000e+09</td>\n",
              "      <td>1.157200e+10</td>\n",
              "      <td>1.251600e+10</td>\n",
              "      <td>1.582000e+10</td>\n",
              "    </tr>\n",
              "    <tr>\n",
              "      <th>Net Receivables</th>\n",
              "      <td>1.008020e+11</td>\n",
              "      <td>1.172370e+11</td>\n",
              "      <td>1.019080e+11</td>\n",
              "      <td>9.070900e+10</td>\n",
              "    </tr>\n",
              "    <tr>\n",
              "      <th>Long Term Debt</th>\n",
              "      <td>1.658000e+09</td>\n",
              "      <td>1.787000e+09</td>\n",
              "      <td>1.844000e+09</td>\n",
              "      <td>6.004000e+09</td>\n",
              "    </tr>\n",
              "    <tr>\n",
              "      <th>Inventory</th>\n",
              "      <td>2.420000e+08</td>\n",
              "      <td>3.580000e+08</td>\n",
              "      <td>7.520000e+08</td>\n",
              "      <td>6.590000e+08</td>\n",
              "    </tr>\n",
              "    <tr>\n",
              "      <th>Accounts Payable</th>\n",
              "      <td>2.785000e+10</td>\n",
              "      <td>3.256600e+10</td>\n",
              "      <td>2.489300e+10</td>\n",
              "      <td>2.036800e+10</td>\n",
              "    </tr>\n",
              "  </tbody>\n",
              "</table>\n",
              "</div>\n",
              "      <button class=\"colab-df-convert\" onclick=\"convertToInteractive('df-d222c91f-1976-4f3d-92e3-03f911f9916a')\"\n",
              "              title=\"Convert this dataframe to an interactive table.\"\n",
              "              style=\"display:none;\">\n",
              "        \n",
              "  <svg xmlns=\"http://www.w3.org/2000/svg\" height=\"24px\"viewBox=\"0 0 24 24\"\n",
              "       width=\"24px\">\n",
              "    <path d=\"M0 0h24v24H0V0z\" fill=\"none\"/>\n",
              "    <path d=\"M18.56 5.44l.94 2.06.94-2.06 2.06-.94-2.06-.94-.94-2.06-.94 2.06-2.06.94zm-11 1L8.5 8.5l.94-2.06 2.06-.94-2.06-.94L8.5 2.5l-.94 2.06-2.06.94zm10 10l.94 2.06.94-2.06 2.06-.94-2.06-.94-.94-2.06-.94 2.06-2.06.94z\"/><path d=\"M17.41 7.96l-1.37-1.37c-.4-.4-.92-.59-1.43-.59-.52 0-1.04.2-1.43.59L10.3 9.45l-7.72 7.72c-.78.78-.78 2.05 0 2.83L4 21.41c.39.39.9.59 1.41.59.51 0 1.02-.2 1.41-.59l7.78-7.78 2.81-2.81c.8-.78.8-2.07 0-2.86zM5.41 20L4 18.59l7.72-7.72 1.47 1.35L5.41 20z\"/>\n",
              "  </svg>\n",
              "      </button>\n",
              "      \n",
              "  <style>\n",
              "    .colab-df-container {\n",
              "      display:flex;\n",
              "      flex-wrap:wrap;\n",
              "      gap: 12px;\n",
              "    }\n",
              "\n",
              "    .colab-df-convert {\n",
              "      background-color: #E8F0FE;\n",
              "      border: none;\n",
              "      border-radius: 50%;\n",
              "      cursor: pointer;\n",
              "      display: none;\n",
              "      fill: #1967D2;\n",
              "      height: 32px;\n",
              "      padding: 0 0 0 0;\n",
              "      width: 32px;\n",
              "    }\n",
              "\n",
              "    .colab-df-convert:hover {\n",
              "      background-color: #E2EBFA;\n",
              "      box-shadow: 0px 1px 2px rgba(60, 64, 67, 0.3), 0px 1px 3px 1px rgba(60, 64, 67, 0.15);\n",
              "      fill: #174EA6;\n",
              "    }\n",
              "\n",
              "    [theme=dark] .colab-df-convert {\n",
              "      background-color: #3B4455;\n",
              "      fill: #D2E3FC;\n",
              "    }\n",
              "\n",
              "    [theme=dark] .colab-df-convert:hover {\n",
              "      background-color: #434B5C;\n",
              "      box-shadow: 0px 1px 3px 1px rgba(0, 0, 0, 0.15);\n",
              "      filter: drop-shadow(0px 1px 2px rgba(0, 0, 0, 0.3));\n",
              "      fill: #FFFFFF;\n",
              "    }\n",
              "  </style>\n",
              "\n",
              "      <script>\n",
              "        const buttonEl =\n",
              "          document.querySelector('#df-d222c91f-1976-4f3d-92e3-03f911f9916a button.colab-df-convert');\n",
              "        buttonEl.style.display =\n",
              "          google.colab.kernel.accessAllowed ? 'block' : 'none';\n",
              "\n",
              "        async function convertToInteractive(key) {\n",
              "          const element = document.querySelector('#df-d222c91f-1976-4f3d-92e3-03f911f9916a');\n",
              "          const dataTable =\n",
              "            await google.colab.kernel.invokeFunction('convertToInteractive',\n",
              "                                                     [key], {});\n",
              "          if (!dataTable) return;\n",
              "\n",
              "          const docLinkHtml = 'Like what you see? Visit the ' +\n",
              "            '<a target=\"_blank\" href=https://colab.research.google.com/notebooks/data_table.ipynb>data table notebook</a>'\n",
              "            + ' to learn more about interactive tables.';\n",
              "          element.innerHTML = '';\n",
              "          dataTable['output_type'] = 'display_data';\n",
              "          await google.colab.output.renderOutput(dataTable, element);\n",
              "          const docLink = document.createElement('div');\n",
              "          docLink.innerHTML = docLinkHtml;\n",
              "          element.appendChild(docLink);\n",
              "        }\n",
              "      </script>\n",
              "    </div>\n",
              "  </div>\n",
              "  "
            ]
          },
          "metadata": {},
          "execution_count": 29
        }
      ]
    },
    {
      "cell_type": "code",
      "source": [
        "tc = 0.25 # Assumed a tax rate of 25% for all the firms\n",
        "beta_unlevered1 = beta1/((1+(1-tc))*d_e_avg1)\n",
        "beta_unlevered2 = beta2/((1+(1-tc))*d_e_avg2)\n",
        "beta_unlevered3 = beta3/((1+(1-tc))*d_e_avg3)"
      ],
      "metadata": {
        "id": "Y7CsN3uk7Wla"
      },
      "execution_count": null,
      "outputs": []
    },
    {
      "cell_type": "markdown",
      "source": [
        "\n",
        "> Industry Average of Beta_unlevered\n",
        "\n"
      ],
      "metadata": {
        "id": "Gm5gpYwYLQt9"
      }
    },
    {
      "cell_type": "code",
      "source": [
        "industry_beta_unlevered_average = (beta_unlevered1 + beta_unlevered2 + beta_unlevered3)/3\n",
        "print(\"Industry Average of Beta_unlevered:\",industry_beta_unlevered_average)"
      ],
      "metadata": {
        "colab": {
          "base_uri": "https://localhost:8080/"
        },
        "id": "tqSIG0YU8SjL",
        "outputId": "1a9a7d2b-3e49-43cf-e942-4b4e66dd52b6"
      },
      "execution_count": null,
      "outputs": [
        {
          "output_type": "stream",
          "name": "stdout",
          "text": [
            "Industry Average of Beta_unlevered: 1.158207485296934\n"
          ]
        }
      ]
    },
    {
      "cell_type": "code",
      "source": [
        "data = {'beta_unlevered_Mphasis':beta_unlevered1, 'beta_unlevered_wipro':beta_unlevered2, 'beta_unlevered_tech_mahindra':beta_unlevered3,'Industry Average':industry_beta_unlevered_average}\n",
        "key = list(data.keys())\n",
        "values = list(data.values())\n",
        "fig = plt.figure(figsize = (10, 5))\n",
        "plt.bar(key, values, color ='blue',\n",
        "        width = 0.4)\n",
        " \n",
        "plt.xlabel(\"Name of the company\")\n",
        "plt.ylabel(\"Beta Unlevered Value\")\n",
        "plt.title(\"Beta Unlevered Values for comparable companies\")\n",
        "plt.show()"
      ],
      "metadata": {
        "colab": {
          "base_uri": "https://localhost:8080/",
          "height": 351
        },
        "id": "oXbfcL_7rZFl",
        "outputId": "8166d592-2944-4354-de44-f06260c2c88f"
      },
      "execution_count": null,
      "outputs": [
        {
          "output_type": "display_data",
          "data": {
            "text/plain": [
              "<Figure size 720x360 with 1 Axes>"
            ],
            "image/png": "[encoded data removed]"
          },
          "metadata": {
            "needs_background": "light"
          }
        }
      ]
    },
    {
      "cell_type": "markdown",
      "source": [
        "**Relevering of beta using Target D/E ratio i.e. for Infosys**"
      ],
      "metadata": {
        "id": "c32Q-7TEL_3v"
      }
    },
    {
      "cell_type": "code",
      "source": [
        "infosys = yf.Ticker(\"INFY.NS\")\n",
        "balancesheet = infosys.balance_sheet\n",
        "years = balancesheet.columns\n",
        "d_e_final = 0\n",
        "for i in range(1,4):\n",
        "  d_e = balancesheet[years[i]][2]/balancesheet[years[i]][3]\n",
        "  d_e_final += d_e\n",
        "d_e_avg_infy = d_e_final / 3\n",
        "print(\"D/E for Infosys:\",d_e_avg_infy)\n",
        "balancesheet"
      ],
      "metadata": {
        "colab": {
          "base_uri": "https://localhost:8080/",
          "height": 914
        },
        "id": "VBRdXnVo8pRc",
        "outputId": "33cd9d42-a6dc-4b96-92d3-276108ec4f62"
      },
      "execution_count": null,
      "outputs": [
        {
          "output_type": "stream",
          "name": "stdout",
          "text": [
            "D/E for Infosys: 0.3152507174178804\n"
          ]
        },
        {
          "output_type": "execute_result",
          "data": {
            "text/plain": [
              "                                    2021-03-31    2020-03-31    2019-03-31  \\\n",
              "Intangible Assets                 2.830000e+08  2.510000e+08  1.000000e+08   \n",
              "Capital Surplus                   3.590000e+08  3.050000e+08  2.770000e+08   \n",
              "Total Liab                        4.323000e+09  3.559000e+09  2.852000e+09   \n",
              "Total Stockholder Equity          1.044200e+10  8.646000e+09  9.391000e+09   \n",
              "Minority Interest                 6.000000e+07  5.500000e+07  9.000000e+06   \n",
              "Deferred Long Term Liab           2.000000e+07  1.300000e+07  4.000000e+07   \n",
              "Other Current Liab                1.362000e+09  1.138000e+09  1.368000e+09   \n",
              "Total Assets                      1.482500e+10  1.226000e+10  1.225200e+10   \n",
              "Common Stock                      3.320000e+08  3.320000e+08  3.390000e+08   \n",
              "Other Current Assets              6.530000e+08  5.060000e+08  5.850000e+08   \n",
              "Retained Earnings                 1.299500e+10  1.160800e+10  1.163200e+10   \n",
              "Other Liab                        4.320000e+08  2.720000e+08  1.590000e+08   \n",
              "Good Will                         8.320000e+08  6.990000e+08  5.120000e+08   \n",
              "Treasury Stock                   -3.244000e+09 -3.599000e+09 -2.857000e+09   \n",
              "Other Assets                      1.213000e+09  1.137000e+09  1.395000e+09   \n",
              "Cash                              3.380000e+09  2.465000e+09  2.829000e+09   \n",
              "Total Current Liabilities         3.264000e+09  2.757000e+09  2.693000e+09   \n",
              "Deferred Long Term Asset Charges  1.500000e+08  2.310000e+08  1.990000e+08   \n",
              "Other Stockholder Equity         -3.244000e+09 -3.599000e+09 -2.857000e+09   \n",
              "Property Plant Equipment          2.567000e+09  2.414000e+09  1.931000e+09   \n",
              "Total Current Assets              8.307000e+09  7.212000e+09  7.644000e+09   \n",
              "Long Term Investments             1.623000e+09  5.470000e+08  6.700000e+08   \n",
              "Net Tangible Assets               9.327000e+09  7.696000e+09  8.779000e+09   \n",
              "Short Term Investments            1.150000e+08  2.720000e+08  7.000000e+08   \n",
              "Net Receivables                   3.776000e+09  3.479000e+09  3.148000e+09   \n",
              "Inventory                         1.900000e+07  1.900000e+07  1.600000e+07   \n",
              "Accounts Payable                  3.620000e+08  3.770000e+08  2.390000e+08   \n",
              "\n",
              "                                    2018-03-31  \n",
              "Intangible Assets                 3.800000e+07  \n",
              "Capital Surplus                   2.470000e+08  \n",
              "Total Liab                        2.295000e+09  \n",
              "Total Stockholder Equity          9.960000e+09  \n",
              "Minority Interest                 1.000000e+07  \n",
              "Deferred Long Term Liab           4.000000e+07  \n",
              "Other Current Liab                1.078000e+09  \n",
              "Total Assets                      1.225500e+10  \n",
              "Common Stock                      1.900000e+08  \n",
              "Other Current Assets              7.360000e+08  \n",
              "Retained Earnings                 1.183100e+10  \n",
              "Other Liab                        1.310000e+08  \n",
              "Good Will                         3.390000e+08  \n",
              "Treasury Stock                   -2.308000e+09  \n",
              "Other Assets                      1.459000e+09  \n",
              "Cash                              3.041000e+09  \n",
              "Total Current Liabilities         2.164000e+09  \n",
              "Deferred Long Term Asset Charges  1.960000e+08  \n",
              "Other Stockholder Equity         -2.308000e+09  \n",
              "Property Plant Equipment          1.863000e+09  \n",
              "Total Current Assets              7.673000e+09  \n",
              "Long Term Investments             8.830000e+08  \n",
              "Net Tangible Assets               9.583000e+09  \n",
              "Short Term Investments            1.000000e+07  \n",
              "Net Receivables                   2.824000e+09  \n",
              "Inventory                         1.800000e+07  \n",
              "Accounts Payable                  1.070000e+08  "
            ],
            "text/html": [
              "\n",
              "  <div id=\"df-66fe8730-4b60-43d6-a02c-d488bec59f24\">\n",
              "    <div class=\"colab-df-container\">\n",
              "      <div>\n",
              "<style scoped>\n",
              "    .dataframe tbody tr th:only-of-type {\n",
              "        vertical-align: middle;\n",
              "    }\n",
              "\n",
              "    .dataframe tbody tr th {\n",
              "        vertical-align: top;\n",
              "    }\n",
              "\n",
              "    .dataframe thead th {\n",
              "        text-align: right;\n",
              "    }\n",
              "</style>\n",
              "<table border=\"1\" class=\"dataframe\">\n",
              "  <thead>\n",
              "    <tr style=\"text-align: right;\">\n",
              "      <th></th>\n",
              "      <th>2021-03-31</th>\n",
              "      <th>2020-03-31</th>\n",
              "      <th>2019-03-31</th>\n",
              "      <th>2018-03-31</th>\n",
              "    </tr>\n",
              "  </thead>\n",
              "  <tbody>\n",
              "    <tr>\n",
              "      <th>Intangible Assets</th>\n",
              "      <td>2.830000e+08</td>\n",
              "      <td>2.510000e+08</td>\n",
              "      <td>1.000000e+08</td>\n",
              "      <td>3.800000e+07</td>\n",
              "    </tr>\n",
              "    <tr>\n",
              "      <th>Capital Surplus</th>\n",
              "      <td>3.590000e+08</td>\n",
              "      <td>3.050000e+08</td>\n",
              "      <td>2.770000e+08</td>\n",
              "      <td>2.470000e+08</td>\n",
              "    </tr>\n",
              "    <tr>\n",
              "      <th>Total Liab</th>\n",
              "      <td>4.323000e+09</td>\n",
              "      <td>3.559000e+09</td>\n",
              "      <td>2.852000e+09</td>\n",
              "      <td>2.295000e+09</td>\n",
              "    </tr>\n",
              "    <tr>\n",
              "      <th>Total Stockholder Equity</th>\n",
              "      <td>1.044200e+10</td>\n",
              "      <td>8.646000e+09</td>\n",
              "      <td>9.391000e+09</td>\n",
              "      <td>9.960000e+09</td>\n",
              "    </tr>\n",
              "    <tr>\n",
              "      <th>Minority Interest</th>\n",
              "      <td>6.000000e+07</td>\n",
              "      <td>5.500000e+07</td>\n",
              "      <td>9.000000e+06</td>\n",
              "      <td>1.000000e+07</td>\n",
              "    </tr>\n",
              "    <tr>\n",
              "      <th>Deferred Long Term Liab</th>\n",
              "      <td>2.000000e+07</td>\n",
              "      <td>1.300000e+07</td>\n",
              "      <td>4.000000e+07</td>\n",
              "      <td>4.000000e+07</td>\n",
              "    </tr>\n",
              "    <tr>\n",
              "      <th>Other Current Liab</th>\n",
              "      <td>1.362000e+09</td>\n",
              "      <td>1.138000e+09</td>\n",
              "      <td>1.368000e+09</td>\n",
              "      <td>1.078000e+09</td>\n",
              "    </tr>\n",
              "    <tr>\n",
              "      <th>Total Assets</th>\n",
              "      <td>1.482500e+10</td>\n",
              "      <td>1.226000e+10</td>\n",
              "      <td>1.225200e+10</td>\n",
              "      <td>1.225500e+10</td>\n",
              "    </tr>\n",
              "    <tr>\n",
              "      <th>Common Stock</th>\n",
              "      <td>3.320000e+08</td>\n",
              "      <td>3.320000e+08</td>\n",
              "      <td>3.390000e+08</td>\n",
              "      <td>1.900000e+08</td>\n",
              "    </tr>\n",
              "    <tr>\n",
              "      <th>Other Current Assets</th>\n",
              "      <td>6.530000e+08</td>\n",
              "      <td>5.060000e+08</td>\n",
              "      <td>5.850000e+08</td>\n",
              "      <td>7.360000e+08</td>\n",
              "    </tr>\n",
              "    <tr>\n",
              "      <th>Retained Earnings</th>\n",
              "      <td>1.299500e+10</td>\n",
              "      <td>1.160800e+10</td>\n",
              "      <td>1.163200e+10</td>\n",
              "      <td>1.183100e+10</td>\n",
              "    </tr>\n",
              "    <tr>\n",
              "      <th>Other Liab</th>\n",
              "      <td>4.320000e+08</td>\n",
              "      <td>2.720000e+08</td>\n",
              "      <td>1.590000e+08</td>\n",
              "      <td>1.310000e+08</td>\n",
              "    </tr>\n",
              "    <tr>\n",
              "      <th>Good Will</th>\n",
              "      <td>8.320000e+08</td>\n",
              "      <td>6.990000e+08</td>\n",
              "      <td>5.120000e+08</td>\n",
              "      <td>3.390000e+08</td>\n",
              "    </tr>\n",
              "    <tr>\n",
              "      <th>Treasury Stock</th>\n",
              "      <td>-3.244000e+09</td>\n",
              "      <td>-3.599000e+09</td>\n",
              "      <td>-2.857000e+09</td>\n",
              "      <td>-2.308000e+09</td>\n",
              "    </tr>\n",
              "    <tr>\n",
              "      <th>Other Assets</th>\n",
              "      <td>1.213000e+09</td>\n",
              "      <td>1.137000e+09</td>\n",
              "      <td>1.395000e+09</td>\n",
              "      <td>1.459000e+09</td>\n",
              "    </tr>\n",
              "    <tr>\n",
              "      <th>Cash</th>\n",
              "      <td>3.380000e+09</td>\n",
              "      <td>2.465000e+09</td>\n",
              "      <td>2.829000e+09</td>\n",
              "      <td>3.041000e+09</td>\n",
              "    </tr>\n",
              "    <tr>\n",
              "      <th>Total Current Liabilities</th>\n",
              "      <td>3.264000e+09</td>\n",
              "      <td>2.757000e+09</td>\n",
              "      <td>2.693000e+09</td>\n",
              "      <td>2.164000e+09</td>\n",
              "    </tr>\n",
              "    <tr>\n",
              "      <th>Deferred Long Term Asset Charges</th>\n",
              "      <td>1.500000e+08</td>\n",
              "      <td>2.310000e+08</td>\n",
              "      <td>1.990000e+08</td>\n",
              "      <td>1.960000e+08</td>\n",
              "    </tr>\n",
              "    <tr>\n",
              "      <th>Other Stockholder Equity</th>\n",
              "      <td>-3.244000e+09</td>\n",
              "      <td>-3.599000e+09</td>\n",
              "      <td>-2.857000e+09</td>\n",
              "      <td>-2.308000e+09</td>\n",
              "    </tr>\n",
              "    <tr>\n",
              "      <th>Property Plant Equipment</th>\n",
              "      <td>2.567000e+09</td>\n",
              "      <td>2.414000e+09</td>\n",
              "      <td>1.931000e+09</td>\n",
              "      <td>1.863000e+09</td>\n",
              "    </tr>\n",
              "    <tr>\n",
              "      <th>Total Current Assets</th>\n",
              "      <td>8.307000e+09</td>\n",
              "      <td>7.212000e+09</td>\n",
              "      <td>7.644000e+09</td>\n",
              "      <td>7.673000e+09</td>\n",
              "    </tr>\n",
              "    <tr>\n",
              "      <th>Long Term Investments</th>\n",
              "      <td>1.623000e+09</td>\n",
              "      <td>5.470000e+08</td>\n",
              "      <td>6.700000e+08</td>\n",
              "      <td>8.830000e+08</td>\n",
              "    </tr>\n",
              "    <tr>\n",
              "      <th>Net Tangible Assets</th>\n",
              "      <td>9.327000e+09</td>\n",
              "      <td>7.696000e+09</td>\n",
              "      <td>8.779000e+09</td>\n",
              "      <td>9.583000e+09</td>\n",
              "    </tr>\n",
              "    <tr>\n",
              "      <th>Short Term Investments</th>\n",
              "      <td>1.150000e+08</td>\n",
              "      <td>2.720000e+08</td>\n",
              "      <td>7.000000e+08</td>\n",
              "      <td>1.000000e+07</td>\n",
              "    </tr>\n",
              "    <tr>\n",
              "      <th>Net Receivables</th>\n",
              "      <td>3.776000e+09</td>\n",
              "      <td>3.479000e+09</td>\n",
              "      <td>3.148000e+09</td>\n",
              "      <td>2.824000e+09</td>\n",
              "    </tr>\n",
              "    <tr>\n",
              "      <th>Inventory</th>\n",
              "      <td>1.900000e+07</td>\n",
              "      <td>1.900000e+07</td>\n",
              "      <td>1.600000e+07</td>\n",
              "      <td>1.800000e+07</td>\n",
              "    </tr>\n",
              "    <tr>\n",
              "      <th>Accounts Payable</th>\n",
              "      <td>3.620000e+08</td>\n",
              "      <td>3.770000e+08</td>\n",
              "      <td>2.390000e+08</td>\n",
              "      <td>1.070000e+08</td>\n",
              "    </tr>\n",
              "  </tbody>\n",
              "</table>\n",
              "</div>\n",
              "      <button class=\"colab-df-convert\" onclick=\"convertToInteractive('df-66fe8730-4b60-43d6-a02c-d488bec59f24')\"\n",
              "              title=\"Convert this dataframe to an interactive table.\"\n",
              "              style=\"display:none;\">\n",
              "        \n",
              "  <svg xmlns=\"http://www.w3.org/2000/svg\" height=\"24px\"viewBox=\"0 0 24 24\"\n",
              "       width=\"24px\">\n",
              "    <path d=\"M0 0h24v24H0V0z\" fill=\"none\"/>\n",
              "    <path d=\"M18.56 5.44l.94 2.06.94-2.06 2.06-.94-2.06-.94-.94-2.06-.94 2.06-2.06.94zm-11 1L8.5 8.5l.94-2.06 2.06-.94-2.06-.94L8.5 2.5l-.94 2.06-2.06.94zm10 10l.94 2.06.94-2.06 2.06-.94-2.06-.94-.94-2.06-.94 2.06-2.06.94z\"/><path d=\"M17.41 7.96l-1.37-1.37c-.4-.4-.92-.59-1.43-.59-.52 0-1.04.2-1.43.59L10.3 9.45l-7.72 7.72c-.78.78-.78 2.05 0 2.83L4 21.41c.39.39.9.59 1.41.59.51 0 1.02-.2 1.41-.59l7.78-7.78 2.81-2.81c.8-.78.8-2.07 0-2.86zM5.41 20L4 18.59l7.72-7.72 1.47 1.35L5.41 20z\"/>\n",
              "  </svg>\n",
              "      </button>\n",
              "      \n",
              "  <style>\n",
              "    .colab-df-container {\n",
              "      display:flex;\n",
              "      flex-wrap:wrap;\n",
              "      gap: 12px;\n",
              "    }\n",
              "\n",
              "    .colab-df-convert {\n",
              "      background-color: #E8F0FE;\n",
              "      border: none;\n",
              "      border-radius: 50%;\n",
              "      cursor: pointer;\n",
              "      display: none;\n",
              "      fill: #1967D2;\n",
              "      height: 32px;\n",
              "      padding: 0 0 0 0;\n",
              "      width: 32px;\n",
              "    }\n",
              "\n",
              "    .colab-df-convert:hover {\n",
              "      background-color: #E2EBFA;\n",
              "      box-shadow: 0px 1px 2px rgba(60, 64, 67, 0.3), 0px 1px 3px 1px rgba(60, 64, 67, 0.15);\n",
              "      fill: #174EA6;\n",
              "    }\n",
              "\n",
              "    [theme=dark] .colab-df-convert {\n",
              "      background-color: #3B4455;\n",
              "      fill: #D2E3FC;\n",
              "    }\n",
              "\n",
              "    [theme=dark] .colab-df-convert:hover {\n",
              "      background-color: #434B5C;\n",
              "      box-shadow: 0px 1px 3px 1px rgba(0, 0, 0, 0.15);\n",
              "      filter: drop-shadow(0px 1px 2px rgba(0, 0, 0, 0.3));\n",
              "      fill: #FFFFFF;\n",
              "    }\n",
              "  </style>\n",
              "\n",
              "      <script>\n",
              "        const buttonEl =\n",
              "          document.querySelector('#df-66fe8730-4b60-43d6-a02c-d488bec59f24 button.colab-df-convert');\n",
              "        buttonEl.style.display =\n",
              "          google.colab.kernel.accessAllowed ? 'block' : 'none';\n",
              "\n",
              "        async function convertToInteractive(key) {\n",
              "          const element = document.querySelector('#df-66fe8730-4b60-43d6-a02c-d488bec59f24');\n",
              "          const dataTable =\n",
              "            await google.colab.kernel.invokeFunction('convertToInteractive',\n",
              "                                                     [key], {});\n",
              "          if (!dataTable) return;\n",
              "\n",
              "          const docLinkHtml = 'Like what you see? Visit the ' +\n",
              "            '<a target=\"_blank\" href=https://colab.research.google.com/notebooks/data_table.ipynb>data table notebook</a>'\n",
              "            + ' to learn more about interactive tables.';\n",
              "          element.innerHTML = '';\n",
              "          dataTable['output_type'] = 'display_data';\n",
              "          await google.colab.output.renderOutput(dataTable, element);\n",
              "          const docLink = document.createElement('div');\n",
              "          docLink.innerHTML = docLinkHtml;\n",
              "          element.appendChild(docLink);\n",
              "        }\n",
              "      </script>\n",
              "    </div>\n",
              "  </div>\n",
              "  "
            ]
          },
          "metadata": {},
          "execution_count": 33
        }
      ]
    },
    {
      "cell_type": "code",
      "source": [
        "beta_levered_infy = industry_beta_unlevered_average * (1 + (1-tc)*d_e_avg_infy)\n",
        "print(\"Beta levered for infosys:\",beta_levered_infy)\n"
      ],
      "metadata": {
        "colab": {
          "base_uri": "https://localhost:8080/"
        },
        "id": "E_6Wohy-81yF",
        "outputId": "9a4ab8b7-cf34-4d8b-93b1-aaa82189e653"
      },
      "execution_count": null,
      "outputs": [
        {
          "output_type": "stream",
          "name": "stdout",
          "text": [
            "Beta levered for infosys: 1.4320517907908972\n"
          ]
        }
      ]
    },
    {
      "cell_type": "markdown",
      "source": [
        "\n",
        "> Beta levered for infosys: 1.43205\n",
        "\n"
      ],
      "metadata": {
        "id": "w86vp1DNVhb8"
      }
    },
    {
      "cell_type": "code",
      "source": [
        "Ke_bu = Rf + beta_levered_infy*(Rm - Rf) # CAPM Model\n",
        "print(\"Cost of Equity Capital for Infosys Using Bottom-Up approach:\",Ke_bu*100)"
      ],
      "metadata": {
        "colab": {
          "base_uri": "https://localhost:8080/"
        },
        "id": "7rO6gFgXVq6w",
        "outputId": "d40b48bd-9ec3-479d-8000-00c94437d463"
      },
      "execution_count": null,
      "outputs": [
        {
          "output_type": "stream",
          "name": "stdout",
          "text": [
            "Cost of Equity Capital for Infosys Using Bottom-Up approach: 10.70470465642832\n"
          ]
        }
      ]
    },
    {
      "cell_type": "markdown",
      "source": [
        "**Cost of Equity Capital for Infosys Using Bottom-Up approach: 10.7047%**\n"
      ],
      "metadata": {
        "id": "0k5jFa0ukjWy"
      }
    },
    {
      "cell_type": "markdown",
      "source": [
        "Calculation of Cost of Debt"
      ],
      "metadata": {
        "id": "sh1HXkEE9N0l"
      }
    },
    {
      "cell_type": "code",
      "source": [
        "# Interest coverage Ratio = EBIT/Interest expense  https://www.moneycontrol.com/india/stockpricequote/computers-software/infosys/IT\n",
        "int_cov=139.852 #from moneycontrol\n",
        "#Mapping the avg_interest_coverage to http://pages.stern.nyu.edu/~adamodar/New_Home_Page/valquestions/syntrating.htm\n",
        "if int_cov > 12.5:\n",
        "        #Rating is AAA\n",
        "        credit_spread = 0.75 #in %\n",
        "elif (int_cov > 9.5) & (int_cov <= 12.5):\n",
        "        #Rating is AA\n",
        "        credit_spread = 1\n",
        "elif (int_cov > 7.5) & (int_cov <= 9.5):\n",
        "        #Rating is A+\n",
        "        credit_spread = 1.5\n",
        "elif (int_cov > 6) & (int_cov <= 7.5):\n",
        "        #Rating is A\n",
        "        credit_spread = 1.8\n",
        "elif (int_cov > 4.5) & (int_cov <= 6):\n",
        "        #Rating is A-\n",
        "        credit_spread = 2\n",
        "elif (int_cov > 3.5) & (int_cov <= 4.5):\n",
        "        #Rating is BBB\n",
        "        credit_spread = 2.25\n",
        "elif (int_cov > 3) & (int_cov <= 3.5):\n",
        "        #Rating is BB\n",
        "        credit_spread = 3.5\n",
        "elif (int_cov > 2.5) & (int_cov <= 3):\n",
        "        #Rating is B+\n",
        "        credit_spread = 4.75\n",
        "elif (int_cov > 2) & (int_cov <= 2.5):\n",
        "        #Rating is B\n",
        "        credit_spread = 6.5\n",
        "elif (int_cov > 1.5) & (int_cov <= 2):\n",
        "        #Rating is B-\n",
        "        credit_spread = 8\n",
        "elif (int_cov > 1.25) & (int_cov <= 1.5):\n",
        "        #Rating is CCC\n",
        "        credit_spread = 10\n",
        "elif (int_cov > 0.8) & (int_cov <= 1.25):\n",
        "        #Rating is CC\n",
        "        credit_spread = 11.5\n",
        "elif (int_cov > 0.5) & (int_cov <= 0.8):\n",
        "        #Rating is C\n",
        "        credit_spread = 12.7\n",
        "elif int_cov <= 0.2:\n",
        "        #Rating is D\n",
        "        credit_spread = 14\n",
        "\n",
        "Rb = Rf*100+credit_spread\n",
        "print(\"Cost of Debt in %:\",Rb)"
      ],
      "metadata": {
        "colab": {
          "base_uri": "https://localhost:8080/"
        },
        "id": "bvaxmTuL9TlV",
        "outputId": "70048013-266a-440c-e9a3-6b0d27031bdd"
      },
      "execution_count": null,
      "outputs": [
        {
          "output_type": "stream",
          "name": "stdout",
          "text": [
            "Cost of Debt in %: 7.2299999999999995\n"
          ]
        }
      ]
    },
    {
      "cell_type": "markdown",
      "source": [
        "**Cost of Debt in %: 7.229**"
      ],
      "metadata": {
        "id": "eWhaybenlB7y"
      }
    },
    {
      "cell_type": "markdown",
      "source": [
        "# Calculation of Weights\n"
      ],
      "metadata": {
        "id": "Nt55eJWklHlU"
      }
    },
    {
      "cell_type": "code",
      "source": [
        "balancesheet = infosys.balance_sheet #ws= ratio of equity to (equity+debt)\n",
        "years = balancesheet.columns\n",
        "ws_final = 0\n",
        "for i in range(1,4):\n",
        "  ws = balancesheet[years[i]][3]/(balancesheet[years[i]][3] + balancesheet[years[i]][2])\n",
        "  ws_final += ws\n",
        "ws_avg = ws_final / 3\n",
        "print(\"Ws:\",ws_avg)"
      ],
      "metadata": {
        "colab": {
          "base_uri": "https://localhost:8080/"
        },
        "id": "NtQl1cJIB7KP",
        "outputId": "e1862187-3003-44d2-f259-433ec760b7d5"
      },
      "execution_count": null,
      "outputs": [
        {
          "output_type": "stream",
          "name": "stdout",
          "text": [
            "Ws: 0.7627260850424872\n"
          ]
        }
      ]
    },
    {
      "cell_type": "code",
      "source": [
        "balancesheet = infosys.balance_sheet #wb= ratio of debt to (equity+debt)\n",
        "years = balancesheet.columns\n",
        "wb_final = 0\n",
        "for i in range(1,4):\n",
        "  wb = balancesheet[years[i]][2]/(balancesheet[years[i]][2] + balancesheet[years[i]][3])\n",
        "  wb_final += wb\n",
        "wb_avg = wb_final / 3\n",
        "print(\"Wb:\",wb_avg)"
      ],
      "metadata": {
        "colab": {
          "base_uri": "https://localhost:8080/"
        },
        "id": "d1Qoom4Y9ToV",
        "outputId": "24525939-9521-45d7-caa8-aaa6585b085f"
      },
      "execution_count": null,
      "outputs": [
        {
          "output_type": "stream",
          "name": "stdout",
          "text": [
            "Wb: 0.2372739149575128\n"
          ]
        }
      ]
    },
    {
      "cell_type": "markdown",
      "source": [
        "\n",
        "\n",
        "\n",
        "> *   Market Value of Equity = Price * Number of shares Outstanding\n",
        "*   MVE = 657,092.58 in crores as on 19-04-2022\n",
        "\n",
        "\n",
        "\n",
        "\n",
        "\n",
        "\n",
        "\n",
        "\n",
        "\n",
        "\n"
      ],
      "metadata": {
        "id": "0QUmSYJbmBKI"
      }
    },
    {
      "cell_type": "markdown",
      "source": [
        "# **WACC Calculation**"
      ],
      "metadata": {
        "id": "EWnJqTvvmrzp"
      }
    },
    {
      "cell_type": "code",
      "source": [
        "Rs = ((Ke_bu+Ke)/2)*100 # taking average of cost of capital obtained by top_down and bottom_up approach\n",
        "print(\"Cost of Equity capital in %:\",Rs)\n",
        "print(\"Cost of debt:\",Rb)\n",
        "print(\"Proportion of equity to the total value of firm:\",ws_avg)\n",
        "print(\"Proportion of debt to the total value of firm:\",wb_avg)\n",
        "print(\"tax rate:\",tc)\n",
        "wacc = Rb*(1-tc)*wb_avg + Rs*ws_avg  # beta of debt is assumed to be neglible,Cost of preferred stock is neglected\n",
        "print(\"WACC in %:\",wacc)\n",
        "\n"
      ],
      "metadata": {
        "colab": {
          "base_uri": "https://localhost:8080/"
        },
        "id": "351NA5ubmxkP",
        "outputId": "3457d6d8-9781-4c14-dbec-2478de6d9540"
      },
      "execution_count": null,
      "outputs": [
        {
          "output_type": "stream",
          "name": "stdout",
          "text": [
            "Cost of Equity capital in %: 9.357751686919116\n",
            "Cost of debt: 7.2299999999999995\n",
            "Proportion of equity to the total value of firm: 0.7627260850424872\n",
            "Proportion of debt to the total value of firm: 0.2372739149575128\n",
            "tax rate: 0.25\n",
            "WACC in %: 8.42401911282066\n"
          ]
        }
      ]
    },
    {
      "cell_type": "markdown",
      "source": [
        "# **Results**\n",
        "\n",
        "*   Risk free rate in % : 6.4799999999999995\n",
        "*   Market Returns in %: 9.430106053144272\n",
        "*   Cost of Equity Capital for Infosys Using Top Down-approach in %: 8.010795\n",
        "*   Industry Average of Beta_unlevered: 1.1582061634433767\n",
        "*   Beta levered for infosys: 1.4320501564008783\n",
        "*   Cost of Equity Capital for Infosys Using Bottom-Up approach in %: 10.704699\n",
        "*   Cost of Equity capital Taking Avg of both approaches %: 9.357747703585087\n",
        "*   Cost of debt in %: 7.2299999999999995\n",
        "*   Proportion of equity to the total value of firm: 0.7627260850424872\n",
        "*   Proportion of debt to the total value of firm: 0.2372739149575128\n",
        "*   tax rate: 0.25\n",
        "*   WACC in %: 8.424016074627891\n",
        "\n",
        "\n",
        "\n"
      ],
      "metadata": {
        "id": "53FVFQzxo9op"
      }
    }
  ],
  "metadata": {
    "colab": {
      "name": "1_group_FM_Assignment_2.ipynb",
      "provenance": [],
      "collapsed_sections": []
    },
    "kernelspec": {
      "display_name": "Python 3",
      "name": "python3"
    },
    "language_info": {
      "name": "python"
    }
  },
  "nbformat": 4,
  "nbformat_minor": 0
}